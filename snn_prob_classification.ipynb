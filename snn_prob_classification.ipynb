{
 "cells": [
  {
   "cell_type": "code",
   "execution_count": 1,
   "metadata": {},
   "outputs": [
    {
     "name": "stderr",
     "output_type": "stream",
     "text": [
      "/home/noonmare/anaconda3/lib/python3.9/site-packages/torchvision/io/image.py:13: UserWarning: Failed to load image Python extension: /home/noonmare/anaconda3/lib/python3.9/site-packages/torchvision/image.so: undefined symbol: _ZN5torch3jit17parseSchemaOrNameERKNSt7__cxx1112basic_stringIcSt11char_traitsIcESaIcEEE\n",
      "  warn(f\"Failed to load image Python extension: {e}\")\n"
     ]
    }
   ],
   "source": [
    "import torch\n",
    "from torchvision import transforms\n",
    "from torchvision import models\n",
    "import torch.backends.cudnn as cudnn\n",
    "import torch.nn as nn\n",
    "import pandas as pd\n",
    "import time\n",
    "import copy\n",
    "import logging\n",
    "import random\n",
    "from tqdm import tqdm\n",
    "from torch.utils.data import Dataset\n",
    "from torch.optim import Adam\n",
    "from torchvision import datasets\n",
    "from torch.optim import lr_scheduler\n",
    "from sklearn.utils import shuffle\n",
    "import torch.nn.functional as F\n",
    "from metrics import confusion_matrix, accuracy_per_class\n",
    "from sklearn.metrics import accuracy_score\n",
    "\n",
    "from dataset_preprocessing import Paths, Dataset\n",
    "from snn import ShallowNN\n",
    "from utils import FocalLoss, MyDataset"
   ]
  },
  {
   "cell_type": "code",
   "execution_count": 2,
   "metadata": {},
   "outputs": [],
   "source": [
    "BATCH_SIZE = 64\n",
    "\n",
    "EPOCHS = 20\n",
    "\n",
    "DEVICE = torch.device('cuda:0' if torch.cuda.is_available() else 'cpu')\n",
    "    \n",
    "inc_v3_path =  Paths.pandora_18k + 'Conv_models/Inception-V3/'\n",
    "\n",
    "train_path = inc_v3_path + 'train_full_emb.csv'\n",
    "valid_path = inc_v3_path + 'valid_full_emb.csv'\n",
    "test_path = inc_v3_path + 'test_full_emb.csv'\n",
    "mistakes_path = inc_v3_path + 'mistakes.csv'\n",
    "\n",
    "fake_Baroque_path = inc_v3_path + 'fake_emb_Baroque.csv'\n",
    "fake_Rococo_path = inc_v3_path + 'fake_emb_Rococo.csv'\n",
    "fake_Romanticism_path = inc_v3_path + 'fake_emb_Romanticism.csv'\n",
    "fake_Expressionism_path = inc_v3_path + 'fake_emb_Expressionism.csv'\n",
    "fake_PostImpressionism_path = inc_v3_path + 'fake_emb_Post-Impressionism.csv'\n",
    "\n",
    "train_prob =  inc_v3_path + 'train_prob.csv'\n",
    "valid_prob =  inc_v3_path + 'valid_prob.csv'\n",
    "test_prob =  inc_v3_path + 'test_prob.csv'\n",
    "\n",
    "model_save_path = inc_v3_path + 'snn.pth'\n",
    "\n",
    "logging_file = \"logs/snn.log\""
   ]
  },
  {
   "cell_type": "code",
   "execution_count": 3,
   "metadata": {},
   "outputs": [],
   "source": [
    "ds = Dataset(Paths.pandora_18k)\n",
    "\n",
    "df_train = pd.read_csv(train_path)\n",
    "\n",
    "df_valid = pd.read_csv(valid_path)\n",
    "\n",
    "df_test = pd.read_csv(test_path)"
   ]
  },
  {
   "cell_type": "code",
   "execution_count": 4,
   "metadata": {},
   "outputs": [],
   "source": [
    "random.seed(42)\n",
    "\n",
    "dataset_train = MyDataset(shuffle(pd.concat([df_train, df_valid], axis=0)), num_classes=len(ds.classes))\n",
    "\n",
    "dataset_valid = MyDataset(df_valid, num_classes=len(ds.classes))\n",
    "\n",
    "dataset_test = MyDataset(df_test, num_classes=len(ds.classes))\n",
    "\n",
    "dataloader_train = torch.utils.data.DataLoader(dataset=dataset_train, \n",
    "                                        batch_size=BATCH_SIZE, \n",
    "                                        shuffle=True, \n",
    "                                        num_workers=4,\n",
    "                                        drop_last=True)\n",
    "\n",
    "dataset_valid = MyDataset(df_valid, num_classes=len(ds.classes))\n",
    "\n",
    "dataloader_valid = torch.utils.data.DataLoader(dataset=dataset_valid, \n",
    "                                        batch_size=BATCH_SIZE, \n",
    "                                        shuffle=True, \n",
    "                                        num_workers=4,\n",
    "                                        drop_last=True)\n",
    "\n",
    "dataloader_test = torch.utils.data.DataLoader(dataset=dataset_test, \n",
    "                                        batch_size=BATCH_SIZE, \n",
    "                                        shuffle=True, \n",
    "                                        num_workers=4,\n",
    "                                        drop_last=True)\n",
    "\n",
    "dataloaders = {\"train\" : dataloader_train, \"validation\" : dataloader_valid, \"test\" : dataloader_test}"
   ]
  },
  {
   "cell_type": "code",
   "execution_count": 5,
   "metadata": {},
   "outputs": [],
   "source": [
    "SEED = 121\n",
    "\n",
    "torch.manual_seed(SEED)\n",
    "\n",
    "logging.basicConfig(level=logging.INFO, filename=logging_file,filemode=\"a\",\n",
    "                    format=\"%(asctime)s %(levelname)s %(message)s\")\n",
    "\n",
    "logging.info(f\"Seed {SEED}\")\n",
    "\n",
    "Net = ShallowNN().to(DEVICE)\n",
    "\n",
    "optimizer_name = \"Adam\"\n",
    "\n",
    "lr = 0.003\n",
    "\n",
    "criterion_name = \"FocalLoss\"\n",
    "\n",
    "#criterion_name = \"CrossEntropy\"\n",
    "\n",
    "optimizer = Adam(Net.parameters(), lr=lr, capturable=True)\n",
    "\n",
    "criterion = FocalLoss(reduction=\"mean\", gamma=2)\n",
    "\n",
    "#criterion = nn.CrossEntropyLoss()\n",
    "\n",
    "scheduler = lr_scheduler.ReduceLROnPlateau(optimizer, mode=\"min\")\n",
    "\n",
    "logging.info(f\"Net parameters {Net.parameters}\")\n",
    "logging.info(f\"Optimizer :{optimizer_name}, lr : {lr}, criterion : {criterion_name}\")"
   ]
  },
  {
   "cell_type": "code",
   "execution_count": 6,
   "metadata": {},
   "outputs": [
    {
     "data": {
      "text/plain": [
       "==========================================================================================\n",
       "Layer (type:depth-idx)                   Output Shape              Param #\n",
       "==========================================================================================\n",
       "ShallowNN                                [64, 1, 20]               --\n",
       "├─Sequential: 1-1                        [64, 1, 20]               --\n",
       "│    └─Conv1d: 2-1                       [64, 1, 20]               6\n",
       "│    └─Linear: 2-2                       [64, 1, 20]               420\n",
       "│    └─Softmax: 2-3                      [64, 1, 20]               --\n",
       "==========================================================================================\n",
       "Total params: 426\n",
       "Trainable params: 426\n",
       "Non-trainable params: 0\n",
       "Total mult-adds (M): 0.03\n",
       "==========================================================================================\n",
       "Input size (MB): 0.03\n",
       "Forward/backward pass size (MB): 0.02\n",
       "Params size (MB): 0.00\n",
       "Estimated Total Size (MB): 0.05\n",
       "=========================================================================================="
      ]
     },
     "execution_count": 6,
     "metadata": {},
     "output_type": "execute_result"
    }
   ],
   "source": [
    "from torchinfo import summary\n",
    "\n",
    "summary(Net, input_size=(BATCH_SIZE, 1, 120))"
   ]
  },
  {
   "cell_type": "code",
   "execution_count": 7,
   "metadata": {},
   "outputs": [
    {
     "name": "stdout",
     "output_type": "stream",
     "text": [
      "Epoch 1/20\n",
      "----------\n"
     ]
    },
    {
     "name": "stderr",
     "output_type": "stream",
     "text": [
      "Epoch 1: 100%|██████████| 247/247 [00:02<00:00, 86.41batch/s] \n"
     ]
    },
    {
     "name": "stdout",
     "output_type": "stream",
     "text": [
      "train loss : 2.2427 train accuracy: 64.73%\n",
      "\n"
     ]
    },
    {
     "name": "stderr",
     "output_type": "stream",
     "text": [
      "Epoch 1: 100%|██████████| 51/51 [00:00<00:00, 97.95batch/s] \n"
     ]
    },
    {
     "name": "stdout",
     "output_type": "stream",
     "text": [
      "validation loss : 2.0050 validation accuracy: 67.97%\n",
      "\n",
      "Epoch 2/20\n",
      "----------\n"
     ]
    },
    {
     "name": "stderr",
     "output_type": "stream",
     "text": [
      "Epoch 2: 100%|██████████| 247/247 [00:02<00:00, 90.55batch/s] \n"
     ]
    },
    {
     "name": "stdout",
     "output_type": "stream",
     "text": [
      "train loss : 1.7401 train accuracy: 90.18%\n",
      "\n"
     ]
    },
    {
     "name": "stderr",
     "output_type": "stream",
     "text": [
      "Epoch 2: 100%|██████████| 51/51 [00:00<00:00, 92.65batch/s] \n"
     ]
    },
    {
     "name": "stdout",
     "output_type": "stream",
     "text": [
      "validation loss : 1.9529 validation accuracy: 69.00%\n",
      "\n",
      "Epoch 3/20\n",
      "----------\n"
     ]
    },
    {
     "name": "stderr",
     "output_type": "stream",
     "text": [
      "Epoch 3: 100%|██████████| 247/247 [00:02<00:00, 93.88batch/s] \n"
     ]
    },
    {
     "name": "stdout",
     "output_type": "stream",
     "text": [
      "train loss : 1.7187 train accuracy: 90.32%\n",
      "\n"
     ]
    },
    {
     "name": "stderr",
     "output_type": "stream",
     "text": [
      "Epoch 3: 100%|██████████| 51/51 [00:00<00:00, 68.93batch/s] \n"
     ]
    },
    {
     "name": "stdout",
     "output_type": "stream",
     "text": [
      "validation loss : 1.9413 validation accuracy: 68.88%\n",
      "\n",
      "Epoch 4/20\n",
      "----------\n"
     ]
    },
    {
     "name": "stderr",
     "output_type": "stream",
     "text": [
      "Epoch 4: 100%|██████████| 247/247 [00:02<00:00, 87.10batch/s] \n"
     ]
    },
    {
     "name": "stdout",
     "output_type": "stream",
     "text": [
      "train loss : 1.7113 train accuracy: 90.48%\n",
      "\n"
     ]
    },
    {
     "name": "stderr",
     "output_type": "stream",
     "text": [
      "Epoch 4: 100%|██████████| 51/51 [00:00<00:00, 83.42batch/s] \n"
     ]
    },
    {
     "name": "stdout",
     "output_type": "stream",
     "text": [
      "validation loss : 1.9322 validation accuracy: 69.45%\n",
      "\n",
      "Epoch 5/20\n",
      "----------\n"
     ]
    },
    {
     "name": "stderr",
     "output_type": "stream",
     "text": [
      "Epoch 5: 100%|██████████| 247/247 [00:02<00:00, 84.22batch/s] \n"
     ]
    },
    {
     "name": "stdout",
     "output_type": "stream",
     "text": [
      "train loss : 1.7074 train accuracy: 90.54%\n",
      "\n"
     ]
    },
    {
     "name": "stderr",
     "output_type": "stream",
     "text": [
      "Epoch 5: 100%|██████████| 51/51 [00:00<00:00, 79.66batch/s] \n"
     ]
    },
    {
     "name": "stdout",
     "output_type": "stream",
     "text": [
      "validation loss : 1.9278 validation accuracy: 69.48%\n",
      "\n",
      "Epoch 6/20\n",
      "----------\n"
     ]
    },
    {
     "name": "stderr",
     "output_type": "stream",
     "text": [
      "Epoch 6: 100%|██████████| 247/247 [00:02<00:00, 84.83batch/s] \n"
     ]
    },
    {
     "name": "stdout",
     "output_type": "stream",
     "text": [
      "train loss : 1.7048 train accuracy: 90.63%\n",
      "\n"
     ]
    },
    {
     "name": "stderr",
     "output_type": "stream",
     "text": [
      "Epoch 6: 100%|██████████| 51/51 [00:00<00:00, 68.59batch/s]\n"
     ]
    },
    {
     "name": "stdout",
     "output_type": "stream",
     "text": [
      "validation loss : 1.9246 validation accuracy: 69.72%\n",
      "\n",
      "Epoch 7/20\n",
      "----------\n"
     ]
    },
    {
     "name": "stderr",
     "output_type": "stream",
     "text": [
      "Epoch 7: 100%|██████████| 247/247 [00:02<00:00, 84.50batch/s] \n"
     ]
    },
    {
     "name": "stdout",
     "output_type": "stream",
     "text": [
      "train loss : 1.7025 train accuracy: 90.75%\n",
      "\n"
     ]
    },
    {
     "name": "stderr",
     "output_type": "stream",
     "text": [
      "Epoch 7: 100%|██████████| 51/51 [00:00<00:00, 95.69batch/s] \n"
     ]
    },
    {
     "name": "stdout",
     "output_type": "stream",
     "text": [
      "validation loss : 1.9206 validation accuracy: 69.93%\n",
      "\n",
      "Epoch 8/20\n",
      "----------\n"
     ]
    },
    {
     "name": "stderr",
     "output_type": "stream",
     "text": [
      "Epoch 8: 100%|██████████| 247/247 [00:02<00:00, 91.46batch/s] \n"
     ]
    },
    {
     "name": "stdout",
     "output_type": "stream",
     "text": [
      "train loss : 1.7011 train accuracy: 90.73%\n",
      "\n"
     ]
    },
    {
     "name": "stderr",
     "output_type": "stream",
     "text": [
      "Epoch 8: 100%|██████████| 51/51 [00:00<00:00, 69.30batch/s]\n"
     ]
    },
    {
     "name": "stdout",
     "output_type": "stream",
     "text": [
      "validation loss : 1.9201 validation accuracy: 69.87%\n",
      "\n",
      "Epoch 9/20\n",
      "----------\n"
     ]
    },
    {
     "name": "stderr",
     "output_type": "stream",
     "text": [
      "Epoch 9: 100%|██████████| 247/247 [00:02<00:00, 84.21batch/s] \n"
     ]
    },
    {
     "name": "stdout",
     "output_type": "stream",
     "text": [
      "train loss : 1.6998 train accuracy: 90.79%\n",
      "\n"
     ]
    },
    {
     "name": "stderr",
     "output_type": "stream",
     "text": [
      "Epoch 9: 100%|██████████| 51/51 [00:00<00:00, 88.17batch/s] \n"
     ]
    },
    {
     "name": "stdout",
     "output_type": "stream",
     "text": [
      "validation loss : 1.9182 validation accuracy: 70.02%\n",
      "\n",
      "Epoch 10/20\n",
      "----------\n"
     ]
    },
    {
     "name": "stderr",
     "output_type": "stream",
     "text": [
      "Epoch 10: 100%|██████████| 247/247 [00:02<00:00, 87.09batch/s] \n"
     ]
    },
    {
     "name": "stdout",
     "output_type": "stream",
     "text": [
      "train loss : 1.6987 train accuracy: 90.80%\n",
      "\n"
     ]
    },
    {
     "name": "stderr",
     "output_type": "stream",
     "text": [
      "Epoch 10: 100%|██████████| 51/51 [00:00<00:00, 73.63batch/s]\n"
     ]
    },
    {
     "name": "stdout",
     "output_type": "stream",
     "text": [
      "validation loss : 1.9160 validation accuracy: 70.11%\n",
      "\n",
      "Epoch 11/20\n",
      "----------\n"
     ]
    },
    {
     "name": "stderr",
     "output_type": "stream",
     "text": [
      "Epoch 11: 100%|██████████| 247/247 [00:02<00:00, 84.23batch/s] \n"
     ]
    },
    {
     "name": "stdout",
     "output_type": "stream",
     "text": [
      "train loss : 1.6979 train accuracy: 90.86%\n",
      "\n"
     ]
    },
    {
     "name": "stderr",
     "output_type": "stream",
     "text": [
      "Epoch 11: 100%|██████████| 51/51 [00:00<00:00, 84.24batch/s] \n"
     ]
    },
    {
     "name": "stdout",
     "output_type": "stream",
     "text": [
      "validation loss : 1.9127 validation accuracy: 70.29%\n",
      "\n",
      "Epoch 12/20\n",
      "----------\n"
     ]
    },
    {
     "name": "stderr",
     "output_type": "stream",
     "text": [
      "Epoch 12: 100%|██████████| 247/247 [00:02<00:00, 94.32batch/s] \n"
     ]
    },
    {
     "name": "stdout",
     "output_type": "stream",
     "text": [
      "train loss : 1.6973 train accuracy: 90.93%\n",
      "\n"
     ]
    },
    {
     "name": "stderr",
     "output_type": "stream",
     "text": [
      "Epoch 12: 100%|██████████| 51/51 [00:00<00:00, 74.83batch/s] \n"
     ]
    },
    {
     "name": "stdout",
     "output_type": "stream",
     "text": [
      "validation loss : 1.9104 validation accuracy: 70.50%\n",
      "\n",
      "Epoch 13/20\n",
      "----------\n"
     ]
    },
    {
     "name": "stderr",
     "output_type": "stream",
     "text": [
      "Epoch 13: 100%|██████████| 247/247 [00:02<00:00, 91.27batch/s] \n"
     ]
    },
    {
     "name": "stdout",
     "output_type": "stream",
     "text": [
      "train loss : 1.6958 train accuracy: 90.99%\n",
      "\n"
     ]
    },
    {
     "name": "stderr",
     "output_type": "stream",
     "text": [
      "Epoch 13: 100%|██████████| 51/51 [00:00<00:00, 76.28batch/s] \n"
     ]
    },
    {
     "name": "stdout",
     "output_type": "stream",
     "text": [
      "validation loss : 1.9112 validation accuracy: 70.38%\n",
      "\n",
      "Epoch 14/20\n",
      "----------\n"
     ]
    },
    {
     "name": "stderr",
     "output_type": "stream",
     "text": [
      "Epoch 14: 100%|██████████| 247/247 [00:02<00:00, 85.15batch/s] \n"
     ]
    },
    {
     "name": "stdout",
     "output_type": "stream",
     "text": [
      "train loss : 1.6960 train accuracy: 90.97%\n",
      "\n"
     ]
    },
    {
     "name": "stderr",
     "output_type": "stream",
     "text": [
      "Epoch 14: 100%|██████████| 51/51 [00:00<00:00, 79.68batch/s] \n"
     ]
    },
    {
     "name": "stdout",
     "output_type": "stream",
     "text": [
      "validation loss : 1.9111 validation accuracy: 70.38%\n",
      "\n",
      "Epoch 15/20\n",
      "----------\n"
     ]
    },
    {
     "name": "stderr",
     "output_type": "stream",
     "text": [
      "Epoch 15: 100%|██████████| 247/247 [00:02<00:00, 91.43batch/s] \n"
     ]
    },
    {
     "name": "stdout",
     "output_type": "stream",
     "text": [
      "train loss : 1.6959 train accuracy: 90.99%\n",
      "\n"
     ]
    },
    {
     "name": "stderr",
     "output_type": "stream",
     "text": [
      "Epoch 15: 100%|██████████| 51/51 [00:00<00:00, 72.63batch/s] \n"
     ]
    },
    {
     "name": "stdout",
     "output_type": "stream",
     "text": [
      "validation loss : 1.9096 validation accuracy: 70.53%\n",
      "\n",
      "Epoch 16/20\n",
      "----------\n"
     ]
    },
    {
     "name": "stderr",
     "output_type": "stream",
     "text": [
      "Epoch 16: 100%|██████████| 247/247 [00:02<00:00, 92.96batch/s] \n"
     ]
    },
    {
     "name": "stdout",
     "output_type": "stream",
     "text": [
      "train loss : 1.6957 train accuracy: 90.99%\n",
      "\n"
     ]
    },
    {
     "name": "stderr",
     "output_type": "stream",
     "text": [
      "Epoch 16: 100%|██████████| 51/51 [00:00<00:00, 72.35batch/s]\n"
     ]
    },
    {
     "name": "stdout",
     "output_type": "stream",
     "text": [
      "validation loss : 1.9107 validation accuracy: 70.41%\n",
      "\n",
      "Epoch 17/20\n",
      "----------\n"
     ]
    },
    {
     "name": "stderr",
     "output_type": "stream",
     "text": [
      "Epoch 17: 100%|██████████| 247/247 [00:02<00:00, 96.45batch/s] \n"
     ]
    },
    {
     "name": "stdout",
     "output_type": "stream",
     "text": [
      "train loss : 1.6954 train accuracy: 91.03%\n",
      "\n"
     ]
    },
    {
     "name": "stderr",
     "output_type": "stream",
     "text": [
      "Epoch 17: 100%|██████████| 51/51 [00:00<00:00, 87.52batch/s] \n"
     ]
    },
    {
     "name": "stdout",
     "output_type": "stream",
     "text": [
      "validation loss : 1.9101 validation accuracy: 70.38%\n",
      "\n",
      "Epoch 18/20\n",
      "----------\n"
     ]
    },
    {
     "name": "stderr",
     "output_type": "stream",
     "text": [
      "Epoch 18: 100%|██████████| 247/247 [00:02<00:00, 86.67batch/s] \n"
     ]
    },
    {
     "name": "stdout",
     "output_type": "stream",
     "text": [
      "train loss : 1.6955 train accuracy: 91.01%\n",
      "\n"
     ]
    },
    {
     "name": "stderr",
     "output_type": "stream",
     "text": [
      "Epoch 18: 100%|██████████| 51/51 [00:00<00:00, 100.36batch/s]\n"
     ]
    },
    {
     "name": "stdout",
     "output_type": "stream",
     "text": [
      "validation loss : 1.9098 validation accuracy: 70.44%\n",
      "\n",
      "Epoch 19/20\n",
      "----------\n"
     ]
    },
    {
     "name": "stderr",
     "output_type": "stream",
     "text": [
      "Epoch 19: 100%|██████████| 247/247 [00:02<00:00, 84.08batch/s] \n"
     ]
    },
    {
     "name": "stdout",
     "output_type": "stream",
     "text": [
      "train loss : 1.6955 train accuracy: 91.00%\n",
      "\n"
     ]
    },
    {
     "name": "stderr",
     "output_type": "stream",
     "text": [
      "Epoch 19: 100%|██████████| 51/51 [00:00<00:00, 74.81batch/s]\n"
     ]
    },
    {
     "name": "stdout",
     "output_type": "stream",
     "text": [
      "validation loss : 1.9091 validation accuracy: 70.50%\n",
      "\n",
      "Epoch 20/20\n",
      "----------\n"
     ]
    },
    {
     "name": "stderr",
     "output_type": "stream",
     "text": [
      "Epoch 20: 100%|██████████| 247/247 [00:02<00:00, 90.21batch/s] \n"
     ]
    },
    {
     "name": "stdout",
     "output_type": "stream",
     "text": [
      "train loss : 1.6953 train accuracy: 91.02%\n",
      "\n"
     ]
    },
    {
     "name": "stderr",
     "output_type": "stream",
     "text": [
      "Epoch 20: 100%|██████████| 51/51 [00:00<00:00, 73.12batch/s]\n"
     ]
    },
    {
     "name": "stdout",
     "output_type": "stream",
     "text": [
      "validation loss : 1.9090 validation accuracy: 70.53%\n",
      "\n",
      "Training complete in 1m 9s\n",
      "Best validation accuracy: 70.53%\n"
     ]
    }
   ],
   "source": [
    "torch.manual_seed(SEED)\n",
    "\n",
    "statistics_data = {\n",
    "            'number of epochs' : range(1,EPOCHS+1),\n",
    "            'training loss' : [],\n",
    "            'validation loss' : [],\n",
    "            'training accuracy' : [],\n",
    "            'validation accuracy' : []\n",
    "        }\n",
    "\n",
    "start_time = time.time()\n",
    "\n",
    "best_acc = 0.0\n",
    "best_model_wts = copy.deepcopy(Net.state_dict())\n",
    "\n",
    "for epoch in range(1, EPOCHS+1):\n",
    "    print(f'Epoch {epoch}/{EPOCHS}')\n",
    "    print('-' * 10)\n",
    "\n",
    "    # Each epoch has a training and validation phase\n",
    "    for phase in ['train', 'validation']:\n",
    "        if phase == 'train':\n",
    "            Net.train()  # Set model to training mode\n",
    "        else:\n",
    "            Net.eval()   # Set model to evaluate mode\n",
    "\n",
    "        running_loss = 0.0\n",
    "        running_corrects = 0\n",
    "\n",
    "        # Iterate over data.\n",
    "        with tqdm(dataloaders[phase], unit='batch') as tepoch:\n",
    "            for inputs, labels in tepoch:\n",
    "                tepoch.set_description(f\"Epoch {epoch}\")\n",
    "                inputs = inputs.to(DEVICE)\n",
    "                labels = labels.type(torch.LongTensor).to(DEVICE)\n",
    "                \n",
    "                # zero the parameter gradients\n",
    "                optimizer.zero_grad()\n",
    "\n",
    "                # forward\n",
    "                # track history if only in train\n",
    "                with torch.set_grad_enabled(phase == 'train'):\n",
    "                    outputs = torch.squeeze(Net(inputs))\n",
    "                    _, preds = torch.max(outputs, 1)\n",
    "                    loss = criterion(outputs, labels)\n",
    "\n",
    "                    # backward + optimize only if in training phase\n",
    "                    if phase == 'train':\n",
    "                        loss.backward()\n",
    "                        optimizer.step()\n",
    "\n",
    "                # statistics\n",
    "                running_loss += loss.item() * inputs.size(0)\n",
    "                running_corrects += torch.sum(preds == labels.data)\n",
    "\n",
    "            if phase == 'train':\n",
    "                scheduler.step(0.005)\n",
    "\n",
    "            epoch_loss = running_loss / len(dataloaders[phase].dataset)\n",
    "            epoch_acc = running_corrects.double() / len(dataloaders[phase].dataset)\n",
    "\n",
    "            if phase == 'train':\n",
    "                statistics_data['training loss'].append(epoch_loss)\n",
    "                statistics_data['training accuracy'].append(epoch_acc.cpu().numpy())\n",
    "            else:\n",
    "                statistics_data['validation loss'].append(epoch_loss)\n",
    "                statistics_data['validation accuracy'].append(epoch_acc.cpu().numpy())\n",
    "\n",
    "            if phase == 'validation' and epoch_acc > best_acc:\n",
    "                best_acc = epoch_acc\n",
    "                best_model_wts = copy.deepcopy(Net.state_dict())\n",
    "            \n",
    "            print(f'{phase} loss : {epoch_loss:.4f} {phase} accuracy: {epoch_acc*100:.2f}%')\n",
    "            logging.info(f'{phase} loss : {epoch_loss:.4f} {phase} accuracy: {epoch_acc*100:.2f}%')\n",
    "\n",
    "        print()\n",
    "\n",
    "time_elapsed = time.time() - start_time\n",
    "print(f'Training complete in {time_elapsed // 60:.0f}m {time_elapsed % 60:.0f}s')\n",
    "logging.info(f'Training complete in {time_elapsed // 60:.0f}m {time_elapsed % 60:.0f}s')\n",
    "print(f'Best validation accuracy: {best_acc*100:.2f}%')\n",
    "logging.info(f'Best validation accuracy: {best_acc*100:.2f}%')\n",
    "\n",
    "Net.load_state_dict(best_model_wts)\n",
    "torch.save(Net.state_dict(), model_save_path)"
   ]
  },
  {
   "cell_type": "code",
   "execution_count": 8,
   "metadata": {},
   "outputs": [
    {
     "name": "stdout",
     "output_type": "stream",
     "text": [
      "Accuracy : 70.657 %\n"
     ]
    }
   ],
   "source": [
    "torch.manual_seed(121)\n",
    "\n",
    "Net.eval()\n",
    "\n",
    "target = torch.tensor([], dtype=torch.float32).to(DEVICE)\n",
    "pred = torch.tensor([], dtype=torch.float32).to(DEVICE)\n",
    "\n",
    "for images, labels in dataloaders[\"test\"]:\n",
    "    images = images.to(DEVICE)\n",
    "    labels = labels.to(DEVICE)\n",
    "\n",
    "    target = torch.cat((target, labels))\n",
    "\n",
    "    outputs = Net(images)\n",
    "    _, predictions = torch.max(outputs, 2)\n",
    "    predictions = torch.squeeze(predictions, 1)\n",
    "\n",
    "    pred = torch.cat((pred, predictions))\n",
    "\n",
    "target, pred = target.to(torch.int32).cpu(), pred.to(torch.int32).cpu()\n",
    "\n",
    "print(f\"Accuracy : {round(accuracy_score(target, pred) * 100, 3)} %\")\n",
    "logging.info(f\"Accuracy : {round(accuracy_score(target, pred) * 100, 3)} %\")"
   ]
  },
  {
   "cell_type": "code",
   "execution_count": 9,
   "metadata": {},
   "outputs": [
    {
     "name": "stdout",
     "output_type": "stream",
     "text": [
      "Accuracy for 01_Byzantin_Iconography: 94.7 %\n",
      "Accuracy for 02_Early_Renaissance: 79.7 %\n",
      "Accuracy for 03_Northern_Renaissance: 83.6 %\n",
      "Accuracy for 04_High_Renaissance: 72.9 %\n",
      "Accuracy for 05_Baroque: 58.0 %\n",
      "Accuracy for 06_Rococo: 38.6 %\n",
      "Accuracy for 07_Romanticism: 60.6 %\n",
      "Accuracy for 08_Realism: 75.1 %\n",
      "Accuracy for 09_Impressionism: 74.9 %\n",
      "Accuracy for 10_Post_Impressionism: 58.2 %\n",
      "Accuracy for 11_Expressionism: 43.8 %\n",
      "Accuracy for 12_Symbolism: 66.5 %\n",
      "Accuracy for 13_Fauvism: 61.0 %\n",
      "Accuracy for 14_Cubism: 79.5 %\n",
      "Accuracy for 15_Surrealism: 63.5 %\n",
      "Accuracy for 16_AbstractArt: 68.5 %\n",
      "Accuracy for 17_NaiveArt: 69.8 %\n",
      "Accuracy for 18_PopArt: 74.3 %\n",
      "Accuracy for 19_ChineseArt: 77.9 %\n",
      "Accuracy for 20_JapaneseArt: 98.6 %\n"
     ]
    }
   ],
   "source": [
    "acc_per_class = accuracy_per_class(pred, target, ds.classes)\n",
    "\n",
    "for style, acc in acc_per_class.items():\n",
    "    print(f'Accuracy for {style}: {acc:.1f} %')"
   ]
  },
  {
   "cell_type": "code",
   "execution_count": 10,
   "metadata": {},
   "outputs": [
    {
     "data": {
      "application/vnd.plotly.v1+json": {
       "config": {
        "plotlyServerURL": "https://plot.ly"
       },
       "data": [
        {
         "colorscale": [
          [
           0,
           "rgb(255,255,217)"
          ],
          [
           0.125,
           "rgb(237,248,177)"
          ],
          [
           0.25,
           "rgb(199,233,180)"
          ],
          [
           0.375,
           "rgb(127,205,187)"
          ],
          [
           0.5,
           "rgb(65,182,196)"
          ],
          [
           0.625,
           "rgb(29,145,192)"
          ],
          [
           0.75,
           "rgb(34,94,168)"
          ],
          [
           0.875,
           "rgb(37,52,148)"
          ],
          [
           1,
           "rgb(8,29,88)"
          ]
         ],
         "reversescale": false,
         "showscale": true,
         "type": "heatmap",
         "x": [
          "01_Byzantin_Iconography",
          "02_Early_Renaissance",
          "03_Northern_Renaissance",
          "04_High_Renaissance",
          "05_Baroque",
          "06_Rococo",
          "07_Romanticism",
          "08_Realism",
          "09_Impressionism",
          "10_Post_Impressionism",
          "11_Expressionism",
          "12_Symbolism",
          "13_Fauvism",
          "14_Cubism",
          "15_Surrealism",
          "16_AbstractArt",
          "17_NaiveArt",
          "18_PopArt",
          "19_ChineseArt",
          "20_JapaneseArt"
         ],
         "y": [
          "20_JapaneseArt",
          "19_ChineseArt",
          "18_PopArt",
          "17_NaiveArt",
          "16_AbstractArt",
          "15_Surrealism",
          "14_Cubism",
          "13_Fauvism",
          "12_Symbolism",
          "11_Expressionism",
          "10_Post_Impressionism",
          "09_Impressionism",
          "08_Realism",
          "07_Romanticism",
          "06_Rococo",
          "05_Baroque",
          "04_High_Renaissance",
          "03_Northern_Renaissance",
          "02_Early_Renaissance",
          "01_Byzantin_Iconography"
         ],
         "z": [
          [
           0,
           0,
           0,
           0,
           0,
           0,
           0,
           0,
           0,
           0,
           0,
           0,
           0,
           0,
           1,
           1,
           0,
           0,
           3,
           356
          ],
          [
           0,
           0,
           0,
           0,
           0,
           0,
           0,
           0,
           0,
           0,
           0,
           0,
           1,
           0,
           7,
           1,
           0,
           3,
           67,
           7
          ],
          [
           0,
           0,
           1,
           0,
           0,
           0,
           0,
           0,
           0,
           2,
           5,
           1,
           4,
           4,
           10,
           22,
           10,
           191,
           1,
           6
          ],
          [
           0,
           1,
           1,
           0,
           0,
           0,
           0,
           3,
           0,
           16,
           13,
           4,
           3,
           6,
           14,
           1,
           157,
           6,
           0,
           0
          ],
          [
           0,
           0,
           1,
           0,
           0,
           0,
           0,
           0,
           1,
           2,
           14,
           5,
           5,
           25,
           3,
           165,
           0,
           18,
           0,
           2
          ],
          [
           1,
           2,
           2,
           2,
           2,
           0,
           0,
           0,
           0,
           2,
           4,
           4,
           1,
           18,
           141,
           9,
           17,
           5,
           9,
           3
          ],
          [
           0,
           1,
           0,
           0,
           0,
           0,
           0,
           1,
           0,
           4,
           10,
           0,
           2,
           205,
           9,
           19,
           4,
           3,
           0,
           0
          ],
          [
           0,
           1,
           1,
           0,
           0,
           0,
           0,
           0,
           2,
           23,
           27,
           0,
           94,
           0,
           0,
           1,
           4,
           1,
           0,
           0
          ],
          [
           0,
           4,
           4,
           0,
           0,
           0,
           1,
           13,
           4,
           23,
           8,
           159,
           0,
           0,
           12,
           2,
           8,
           0,
           0,
           1
          ],
          [
           0,
           0,
           2,
           1,
           0,
           0,
           1,
           6,
           7,
           39,
           102,
           14,
           22,
           6,
           6,
           9,
           11,
           2,
           1,
           4
          ],
          [
           0,
           2,
           3,
           0,
           1,
           0,
           1,
           9,
           22,
           178,
           26,
           17,
           29,
           3,
           1,
           1,
           10,
           0,
           0,
           3
          ],
          [
           0,
           0,
           0,
           1,
           1,
           0,
           4,
           24,
           194,
           22,
           6,
           2,
           1,
           0,
           1,
           0,
           2,
           0,
           0,
           1
          ],
          [
           0,
           0,
           9,
           0,
           0,
           0,
           3,
           220,
           15,
           17,
           6,
           14,
           0,
           0,
           1,
           0,
           6,
           2,
           0,
           0
          ],
          [
           0,
           0,
           0,
           2,
           41,
           21,
           109,
           2,
           5,
           0,
           0,
           0,
           0,
           0,
           0,
           0,
           0,
           0,
           0,
           0
          ],
          [
           0,
           0,
           0,
           0,
           55,
           64,
           42,
           1,
           2,
           0,
           1,
           1,
           0,
           0,
           0,
           0,
           0,
           0,
           0,
           0
          ],
          [
           0,
           0,
           0,
           10,
           116,
           30,
           38,
           1,
           3,
           0,
           0,
           1,
           0,
           0,
           0,
           0,
           0,
           0,
           1,
           0
          ],
          [
           0,
           1,
           11,
           121,
           20,
           2,
           9,
           0,
           1,
           0,
           0,
           1,
           0,
           0,
           0,
           0,
           0,
           0,
           0,
           0
          ],
          [
           0,
           6,
           148,
           7,
           1,
           1,
           0,
           3,
           0,
           0,
           0,
           5,
           0,
           1,
           2,
           0,
           1,
           1,
           1,
           0
          ],
          [
           4,
           126,
           19,
           4,
           0,
           0,
           1,
           0,
           0,
           0,
           0,
           2,
           0,
           0,
           0,
           0,
           2,
           0,
           0,
           0
          ],
          [
           162,
           5,
           0,
           0,
           0,
           0,
           0,
           0,
           0,
           0,
           0,
           1,
           0,
           1,
           1,
           0,
           0,
           0,
           0,
           1
          ]
         ]
        }
       ],
       "layout": {
        "annotations": [
         {
          "font": {
           "color": "#000000"
          },
          "showarrow": false,
          "text": "0",
          "x": "01_Byzantin_Iconography",
          "xref": "x",
          "y": "20_JapaneseArt",
          "yref": "y"
         },
         {
          "font": {
           "color": "#000000"
          },
          "showarrow": false,
          "text": "0",
          "x": "02_Early_Renaissance",
          "xref": "x",
          "y": "20_JapaneseArt",
          "yref": "y"
         },
         {
          "font": {
           "color": "#000000"
          },
          "showarrow": false,
          "text": "0",
          "x": "03_Northern_Renaissance",
          "xref": "x",
          "y": "20_JapaneseArt",
          "yref": "y"
         },
         {
          "font": {
           "color": "#000000"
          },
          "showarrow": false,
          "text": "0",
          "x": "04_High_Renaissance",
          "xref": "x",
          "y": "20_JapaneseArt",
          "yref": "y"
         },
         {
          "font": {
           "color": "#000000"
          },
          "showarrow": false,
          "text": "0",
          "x": "05_Baroque",
          "xref": "x",
          "y": "20_JapaneseArt",
          "yref": "y"
         },
         {
          "font": {
           "color": "#000000"
          },
          "showarrow": false,
          "text": "0",
          "x": "06_Rococo",
          "xref": "x",
          "y": "20_JapaneseArt",
          "yref": "y"
         },
         {
          "font": {
           "color": "#000000"
          },
          "showarrow": false,
          "text": "0",
          "x": "07_Romanticism",
          "xref": "x",
          "y": "20_JapaneseArt",
          "yref": "y"
         },
         {
          "font": {
           "color": "#000000"
          },
          "showarrow": false,
          "text": "0",
          "x": "08_Realism",
          "xref": "x",
          "y": "20_JapaneseArt",
          "yref": "y"
         },
         {
          "font": {
           "color": "#000000"
          },
          "showarrow": false,
          "text": "0",
          "x": "09_Impressionism",
          "xref": "x",
          "y": "20_JapaneseArt",
          "yref": "y"
         },
         {
          "font": {
           "color": "#000000"
          },
          "showarrow": false,
          "text": "0",
          "x": "10_Post_Impressionism",
          "xref": "x",
          "y": "20_JapaneseArt",
          "yref": "y"
         },
         {
          "font": {
           "color": "#000000"
          },
          "showarrow": false,
          "text": "0",
          "x": "11_Expressionism",
          "xref": "x",
          "y": "20_JapaneseArt",
          "yref": "y"
         },
         {
          "font": {
           "color": "#000000"
          },
          "showarrow": false,
          "text": "0",
          "x": "12_Symbolism",
          "xref": "x",
          "y": "20_JapaneseArt",
          "yref": "y"
         },
         {
          "font": {
           "color": "#000000"
          },
          "showarrow": false,
          "text": "0",
          "x": "13_Fauvism",
          "xref": "x",
          "y": "20_JapaneseArt",
          "yref": "y"
         },
         {
          "font": {
           "color": "#000000"
          },
          "showarrow": false,
          "text": "0",
          "x": "14_Cubism",
          "xref": "x",
          "y": "20_JapaneseArt",
          "yref": "y"
         },
         {
          "font": {
           "color": "#000000"
          },
          "showarrow": false,
          "text": "1",
          "x": "15_Surrealism",
          "xref": "x",
          "y": "20_JapaneseArt",
          "yref": "y"
         },
         {
          "font": {
           "color": "#000000"
          },
          "showarrow": false,
          "text": "1",
          "x": "16_AbstractArt",
          "xref": "x",
          "y": "20_JapaneseArt",
          "yref": "y"
         },
         {
          "font": {
           "color": "#000000"
          },
          "showarrow": false,
          "text": "0",
          "x": "17_NaiveArt",
          "xref": "x",
          "y": "20_JapaneseArt",
          "yref": "y"
         },
         {
          "font": {
           "color": "#000000"
          },
          "showarrow": false,
          "text": "0",
          "x": "18_PopArt",
          "xref": "x",
          "y": "20_JapaneseArt",
          "yref": "y"
         },
         {
          "font": {
           "color": "#000000"
          },
          "showarrow": false,
          "text": "3",
          "x": "19_ChineseArt",
          "xref": "x",
          "y": "20_JapaneseArt",
          "yref": "y"
         },
         {
          "font": {
           "color": "#FFFFFF"
          },
          "showarrow": false,
          "text": "356",
          "x": "20_JapaneseArt",
          "xref": "x",
          "y": "20_JapaneseArt",
          "yref": "y"
         },
         {
          "font": {
           "color": "#000000"
          },
          "showarrow": false,
          "text": "0",
          "x": "01_Byzantin_Iconography",
          "xref": "x",
          "y": "19_ChineseArt",
          "yref": "y"
         },
         {
          "font": {
           "color": "#000000"
          },
          "showarrow": false,
          "text": "0",
          "x": "02_Early_Renaissance",
          "xref": "x",
          "y": "19_ChineseArt",
          "yref": "y"
         },
         {
          "font": {
           "color": "#000000"
          },
          "showarrow": false,
          "text": "0",
          "x": "03_Northern_Renaissance",
          "xref": "x",
          "y": "19_ChineseArt",
          "yref": "y"
         },
         {
          "font": {
           "color": "#000000"
          },
          "showarrow": false,
          "text": "0",
          "x": "04_High_Renaissance",
          "xref": "x",
          "y": "19_ChineseArt",
          "yref": "y"
         },
         {
          "font": {
           "color": "#000000"
          },
          "showarrow": false,
          "text": "0",
          "x": "05_Baroque",
          "xref": "x",
          "y": "19_ChineseArt",
          "yref": "y"
         },
         {
          "font": {
           "color": "#000000"
          },
          "showarrow": false,
          "text": "0",
          "x": "06_Rococo",
          "xref": "x",
          "y": "19_ChineseArt",
          "yref": "y"
         },
         {
          "font": {
           "color": "#000000"
          },
          "showarrow": false,
          "text": "0",
          "x": "07_Romanticism",
          "xref": "x",
          "y": "19_ChineseArt",
          "yref": "y"
         },
         {
          "font": {
           "color": "#000000"
          },
          "showarrow": false,
          "text": "0",
          "x": "08_Realism",
          "xref": "x",
          "y": "19_ChineseArt",
          "yref": "y"
         },
         {
          "font": {
           "color": "#000000"
          },
          "showarrow": false,
          "text": "0",
          "x": "09_Impressionism",
          "xref": "x",
          "y": "19_ChineseArt",
          "yref": "y"
         },
         {
          "font": {
           "color": "#000000"
          },
          "showarrow": false,
          "text": "0",
          "x": "10_Post_Impressionism",
          "xref": "x",
          "y": "19_ChineseArt",
          "yref": "y"
         },
         {
          "font": {
           "color": "#000000"
          },
          "showarrow": false,
          "text": "0",
          "x": "11_Expressionism",
          "xref": "x",
          "y": "19_ChineseArt",
          "yref": "y"
         },
         {
          "font": {
           "color": "#000000"
          },
          "showarrow": false,
          "text": "0",
          "x": "12_Symbolism",
          "xref": "x",
          "y": "19_ChineseArt",
          "yref": "y"
         },
         {
          "font": {
           "color": "#000000"
          },
          "showarrow": false,
          "text": "1",
          "x": "13_Fauvism",
          "xref": "x",
          "y": "19_ChineseArt",
          "yref": "y"
         },
         {
          "font": {
           "color": "#000000"
          },
          "showarrow": false,
          "text": "0",
          "x": "14_Cubism",
          "xref": "x",
          "y": "19_ChineseArt",
          "yref": "y"
         },
         {
          "font": {
           "color": "#000000"
          },
          "showarrow": false,
          "text": "7",
          "x": "15_Surrealism",
          "xref": "x",
          "y": "19_ChineseArt",
          "yref": "y"
         },
         {
          "font": {
           "color": "#000000"
          },
          "showarrow": false,
          "text": "1",
          "x": "16_AbstractArt",
          "xref": "x",
          "y": "19_ChineseArt",
          "yref": "y"
         },
         {
          "font": {
           "color": "#000000"
          },
          "showarrow": false,
          "text": "0",
          "x": "17_NaiveArt",
          "xref": "x",
          "y": "19_ChineseArt",
          "yref": "y"
         },
         {
          "font": {
           "color": "#000000"
          },
          "showarrow": false,
          "text": "3",
          "x": "18_PopArt",
          "xref": "x",
          "y": "19_ChineseArt",
          "yref": "y"
         },
         {
          "font": {
           "color": "#000000"
          },
          "showarrow": false,
          "text": "67",
          "x": "19_ChineseArt",
          "xref": "x",
          "y": "19_ChineseArt",
          "yref": "y"
         },
         {
          "font": {
           "color": "#000000"
          },
          "showarrow": false,
          "text": "7",
          "x": "20_JapaneseArt",
          "xref": "x",
          "y": "19_ChineseArt",
          "yref": "y"
         },
         {
          "font": {
           "color": "#000000"
          },
          "showarrow": false,
          "text": "0",
          "x": "01_Byzantin_Iconography",
          "xref": "x",
          "y": "18_PopArt",
          "yref": "y"
         },
         {
          "font": {
           "color": "#000000"
          },
          "showarrow": false,
          "text": "0",
          "x": "02_Early_Renaissance",
          "xref": "x",
          "y": "18_PopArt",
          "yref": "y"
         },
         {
          "font": {
           "color": "#000000"
          },
          "showarrow": false,
          "text": "1",
          "x": "03_Northern_Renaissance",
          "xref": "x",
          "y": "18_PopArt",
          "yref": "y"
         },
         {
          "font": {
           "color": "#000000"
          },
          "showarrow": false,
          "text": "0",
          "x": "04_High_Renaissance",
          "xref": "x",
          "y": "18_PopArt",
          "yref": "y"
         },
         {
          "font": {
           "color": "#000000"
          },
          "showarrow": false,
          "text": "0",
          "x": "05_Baroque",
          "xref": "x",
          "y": "18_PopArt",
          "yref": "y"
         },
         {
          "font": {
           "color": "#000000"
          },
          "showarrow": false,
          "text": "0",
          "x": "06_Rococo",
          "xref": "x",
          "y": "18_PopArt",
          "yref": "y"
         },
         {
          "font": {
           "color": "#000000"
          },
          "showarrow": false,
          "text": "0",
          "x": "07_Romanticism",
          "xref": "x",
          "y": "18_PopArt",
          "yref": "y"
         },
         {
          "font": {
           "color": "#000000"
          },
          "showarrow": false,
          "text": "0",
          "x": "08_Realism",
          "xref": "x",
          "y": "18_PopArt",
          "yref": "y"
         },
         {
          "font": {
           "color": "#000000"
          },
          "showarrow": false,
          "text": "0",
          "x": "09_Impressionism",
          "xref": "x",
          "y": "18_PopArt",
          "yref": "y"
         },
         {
          "font": {
           "color": "#000000"
          },
          "showarrow": false,
          "text": "2",
          "x": "10_Post_Impressionism",
          "xref": "x",
          "y": "18_PopArt",
          "yref": "y"
         },
         {
          "font": {
           "color": "#000000"
          },
          "showarrow": false,
          "text": "5",
          "x": "11_Expressionism",
          "xref": "x",
          "y": "18_PopArt",
          "yref": "y"
         },
         {
          "font": {
           "color": "#000000"
          },
          "showarrow": false,
          "text": "1",
          "x": "12_Symbolism",
          "xref": "x",
          "y": "18_PopArt",
          "yref": "y"
         },
         {
          "font": {
           "color": "#000000"
          },
          "showarrow": false,
          "text": "4",
          "x": "13_Fauvism",
          "xref": "x",
          "y": "18_PopArt",
          "yref": "y"
         },
         {
          "font": {
           "color": "#000000"
          },
          "showarrow": false,
          "text": "4",
          "x": "14_Cubism",
          "xref": "x",
          "y": "18_PopArt",
          "yref": "y"
         },
         {
          "font": {
           "color": "#000000"
          },
          "showarrow": false,
          "text": "10",
          "x": "15_Surrealism",
          "xref": "x",
          "y": "18_PopArt",
          "yref": "y"
         },
         {
          "font": {
           "color": "#000000"
          },
          "showarrow": false,
          "text": "22",
          "x": "16_AbstractArt",
          "xref": "x",
          "y": "18_PopArt",
          "yref": "y"
         },
         {
          "font": {
           "color": "#000000"
          },
          "showarrow": false,
          "text": "10",
          "x": "17_NaiveArt",
          "xref": "x",
          "y": "18_PopArt",
          "yref": "y"
         },
         {
          "font": {
           "color": "#FFFFFF"
          },
          "showarrow": false,
          "text": "191",
          "x": "18_PopArt",
          "xref": "x",
          "y": "18_PopArt",
          "yref": "y"
         },
         {
          "font": {
           "color": "#000000"
          },
          "showarrow": false,
          "text": "1",
          "x": "19_ChineseArt",
          "xref": "x",
          "y": "18_PopArt",
          "yref": "y"
         },
         {
          "font": {
           "color": "#000000"
          },
          "showarrow": false,
          "text": "6",
          "x": "20_JapaneseArt",
          "xref": "x",
          "y": "18_PopArt",
          "yref": "y"
         },
         {
          "font": {
           "color": "#000000"
          },
          "showarrow": false,
          "text": "0",
          "x": "01_Byzantin_Iconography",
          "xref": "x",
          "y": "17_NaiveArt",
          "yref": "y"
         },
         {
          "font": {
           "color": "#000000"
          },
          "showarrow": false,
          "text": "1",
          "x": "02_Early_Renaissance",
          "xref": "x",
          "y": "17_NaiveArt",
          "yref": "y"
         },
         {
          "font": {
           "color": "#000000"
          },
          "showarrow": false,
          "text": "1",
          "x": "03_Northern_Renaissance",
          "xref": "x",
          "y": "17_NaiveArt",
          "yref": "y"
         },
         {
          "font": {
           "color": "#000000"
          },
          "showarrow": false,
          "text": "0",
          "x": "04_High_Renaissance",
          "xref": "x",
          "y": "17_NaiveArt",
          "yref": "y"
         },
         {
          "font": {
           "color": "#000000"
          },
          "showarrow": false,
          "text": "0",
          "x": "05_Baroque",
          "xref": "x",
          "y": "17_NaiveArt",
          "yref": "y"
         },
         {
          "font": {
           "color": "#000000"
          },
          "showarrow": false,
          "text": "0",
          "x": "06_Rococo",
          "xref": "x",
          "y": "17_NaiveArt",
          "yref": "y"
         },
         {
          "font": {
           "color": "#000000"
          },
          "showarrow": false,
          "text": "0",
          "x": "07_Romanticism",
          "xref": "x",
          "y": "17_NaiveArt",
          "yref": "y"
         },
         {
          "font": {
           "color": "#000000"
          },
          "showarrow": false,
          "text": "3",
          "x": "08_Realism",
          "xref": "x",
          "y": "17_NaiveArt",
          "yref": "y"
         },
         {
          "font": {
           "color": "#000000"
          },
          "showarrow": false,
          "text": "0",
          "x": "09_Impressionism",
          "xref": "x",
          "y": "17_NaiveArt",
          "yref": "y"
         },
         {
          "font": {
           "color": "#000000"
          },
          "showarrow": false,
          "text": "16",
          "x": "10_Post_Impressionism",
          "xref": "x",
          "y": "17_NaiveArt",
          "yref": "y"
         },
         {
          "font": {
           "color": "#000000"
          },
          "showarrow": false,
          "text": "13",
          "x": "11_Expressionism",
          "xref": "x",
          "y": "17_NaiveArt",
          "yref": "y"
         },
         {
          "font": {
           "color": "#000000"
          },
          "showarrow": false,
          "text": "4",
          "x": "12_Symbolism",
          "xref": "x",
          "y": "17_NaiveArt",
          "yref": "y"
         },
         {
          "font": {
           "color": "#000000"
          },
          "showarrow": false,
          "text": "3",
          "x": "13_Fauvism",
          "xref": "x",
          "y": "17_NaiveArt",
          "yref": "y"
         },
         {
          "font": {
           "color": "#000000"
          },
          "showarrow": false,
          "text": "6",
          "x": "14_Cubism",
          "xref": "x",
          "y": "17_NaiveArt",
          "yref": "y"
         },
         {
          "font": {
           "color": "#000000"
          },
          "showarrow": false,
          "text": "14",
          "x": "15_Surrealism",
          "xref": "x",
          "y": "17_NaiveArt",
          "yref": "y"
         },
         {
          "font": {
           "color": "#000000"
          },
          "showarrow": false,
          "text": "1",
          "x": "16_AbstractArt",
          "xref": "x",
          "y": "17_NaiveArt",
          "yref": "y"
         },
         {
          "font": {
           "color": "#000000"
          },
          "showarrow": false,
          "text": "157",
          "x": "17_NaiveArt",
          "xref": "x",
          "y": "17_NaiveArt",
          "yref": "y"
         },
         {
          "font": {
           "color": "#000000"
          },
          "showarrow": false,
          "text": "6",
          "x": "18_PopArt",
          "xref": "x",
          "y": "17_NaiveArt",
          "yref": "y"
         },
         {
          "font": {
           "color": "#000000"
          },
          "showarrow": false,
          "text": "0",
          "x": "19_ChineseArt",
          "xref": "x",
          "y": "17_NaiveArt",
          "yref": "y"
         },
         {
          "font": {
           "color": "#000000"
          },
          "showarrow": false,
          "text": "0",
          "x": "20_JapaneseArt",
          "xref": "x",
          "y": "17_NaiveArt",
          "yref": "y"
         },
         {
          "font": {
           "color": "#000000"
          },
          "showarrow": false,
          "text": "0",
          "x": "01_Byzantin_Iconography",
          "xref": "x",
          "y": "16_AbstractArt",
          "yref": "y"
         },
         {
          "font": {
           "color": "#000000"
          },
          "showarrow": false,
          "text": "0",
          "x": "02_Early_Renaissance",
          "xref": "x",
          "y": "16_AbstractArt",
          "yref": "y"
         },
         {
          "font": {
           "color": "#000000"
          },
          "showarrow": false,
          "text": "1",
          "x": "03_Northern_Renaissance",
          "xref": "x",
          "y": "16_AbstractArt",
          "yref": "y"
         },
         {
          "font": {
           "color": "#000000"
          },
          "showarrow": false,
          "text": "0",
          "x": "04_High_Renaissance",
          "xref": "x",
          "y": "16_AbstractArt",
          "yref": "y"
         },
         {
          "font": {
           "color": "#000000"
          },
          "showarrow": false,
          "text": "0",
          "x": "05_Baroque",
          "xref": "x",
          "y": "16_AbstractArt",
          "yref": "y"
         },
         {
          "font": {
           "color": "#000000"
          },
          "showarrow": false,
          "text": "0",
          "x": "06_Rococo",
          "xref": "x",
          "y": "16_AbstractArt",
          "yref": "y"
         },
         {
          "font": {
           "color": "#000000"
          },
          "showarrow": false,
          "text": "0",
          "x": "07_Romanticism",
          "xref": "x",
          "y": "16_AbstractArt",
          "yref": "y"
         },
         {
          "font": {
           "color": "#000000"
          },
          "showarrow": false,
          "text": "0",
          "x": "08_Realism",
          "xref": "x",
          "y": "16_AbstractArt",
          "yref": "y"
         },
         {
          "font": {
           "color": "#000000"
          },
          "showarrow": false,
          "text": "1",
          "x": "09_Impressionism",
          "xref": "x",
          "y": "16_AbstractArt",
          "yref": "y"
         },
         {
          "font": {
           "color": "#000000"
          },
          "showarrow": false,
          "text": "2",
          "x": "10_Post_Impressionism",
          "xref": "x",
          "y": "16_AbstractArt",
          "yref": "y"
         },
         {
          "font": {
           "color": "#000000"
          },
          "showarrow": false,
          "text": "14",
          "x": "11_Expressionism",
          "xref": "x",
          "y": "16_AbstractArt",
          "yref": "y"
         },
         {
          "font": {
           "color": "#000000"
          },
          "showarrow": false,
          "text": "5",
          "x": "12_Symbolism",
          "xref": "x",
          "y": "16_AbstractArt",
          "yref": "y"
         },
         {
          "font": {
           "color": "#000000"
          },
          "showarrow": false,
          "text": "5",
          "x": "13_Fauvism",
          "xref": "x",
          "y": "16_AbstractArt",
          "yref": "y"
         },
         {
          "font": {
           "color": "#000000"
          },
          "showarrow": false,
          "text": "25",
          "x": "14_Cubism",
          "xref": "x",
          "y": "16_AbstractArt",
          "yref": "y"
         },
         {
          "font": {
           "color": "#000000"
          },
          "showarrow": false,
          "text": "3",
          "x": "15_Surrealism",
          "xref": "x",
          "y": "16_AbstractArt",
          "yref": "y"
         },
         {
          "font": {
           "color": "#000000"
          },
          "showarrow": false,
          "text": "165",
          "x": "16_AbstractArt",
          "xref": "x",
          "y": "16_AbstractArt",
          "yref": "y"
         },
         {
          "font": {
           "color": "#000000"
          },
          "showarrow": false,
          "text": "0",
          "x": "17_NaiveArt",
          "xref": "x",
          "y": "16_AbstractArt",
          "yref": "y"
         },
         {
          "font": {
           "color": "#000000"
          },
          "showarrow": false,
          "text": "18",
          "x": "18_PopArt",
          "xref": "x",
          "y": "16_AbstractArt",
          "yref": "y"
         },
         {
          "font": {
           "color": "#000000"
          },
          "showarrow": false,
          "text": "0",
          "x": "19_ChineseArt",
          "xref": "x",
          "y": "16_AbstractArt",
          "yref": "y"
         },
         {
          "font": {
           "color": "#000000"
          },
          "showarrow": false,
          "text": "2",
          "x": "20_JapaneseArt",
          "xref": "x",
          "y": "16_AbstractArt",
          "yref": "y"
         },
         {
          "font": {
           "color": "#000000"
          },
          "showarrow": false,
          "text": "1",
          "x": "01_Byzantin_Iconography",
          "xref": "x",
          "y": "15_Surrealism",
          "yref": "y"
         },
         {
          "font": {
           "color": "#000000"
          },
          "showarrow": false,
          "text": "2",
          "x": "02_Early_Renaissance",
          "xref": "x",
          "y": "15_Surrealism",
          "yref": "y"
         },
         {
          "font": {
           "color": "#000000"
          },
          "showarrow": false,
          "text": "2",
          "x": "03_Northern_Renaissance",
          "xref": "x",
          "y": "15_Surrealism",
          "yref": "y"
         },
         {
          "font": {
           "color": "#000000"
          },
          "showarrow": false,
          "text": "2",
          "x": "04_High_Renaissance",
          "xref": "x",
          "y": "15_Surrealism",
          "yref": "y"
         },
         {
          "font": {
           "color": "#000000"
          },
          "showarrow": false,
          "text": "2",
          "x": "05_Baroque",
          "xref": "x",
          "y": "15_Surrealism",
          "yref": "y"
         },
         {
          "font": {
           "color": "#000000"
          },
          "showarrow": false,
          "text": "0",
          "x": "06_Rococo",
          "xref": "x",
          "y": "15_Surrealism",
          "yref": "y"
         },
         {
          "font": {
           "color": "#000000"
          },
          "showarrow": false,
          "text": "0",
          "x": "07_Romanticism",
          "xref": "x",
          "y": "15_Surrealism",
          "yref": "y"
         },
         {
          "font": {
           "color": "#000000"
          },
          "showarrow": false,
          "text": "0",
          "x": "08_Realism",
          "xref": "x",
          "y": "15_Surrealism",
          "yref": "y"
         },
         {
          "font": {
           "color": "#000000"
          },
          "showarrow": false,
          "text": "0",
          "x": "09_Impressionism",
          "xref": "x",
          "y": "15_Surrealism",
          "yref": "y"
         },
         {
          "font": {
           "color": "#000000"
          },
          "showarrow": false,
          "text": "2",
          "x": "10_Post_Impressionism",
          "xref": "x",
          "y": "15_Surrealism",
          "yref": "y"
         },
         {
          "font": {
           "color": "#000000"
          },
          "showarrow": false,
          "text": "4",
          "x": "11_Expressionism",
          "xref": "x",
          "y": "15_Surrealism",
          "yref": "y"
         },
         {
          "font": {
           "color": "#000000"
          },
          "showarrow": false,
          "text": "4",
          "x": "12_Symbolism",
          "xref": "x",
          "y": "15_Surrealism",
          "yref": "y"
         },
         {
          "font": {
           "color": "#000000"
          },
          "showarrow": false,
          "text": "1",
          "x": "13_Fauvism",
          "xref": "x",
          "y": "15_Surrealism",
          "yref": "y"
         },
         {
          "font": {
           "color": "#000000"
          },
          "showarrow": false,
          "text": "18",
          "x": "14_Cubism",
          "xref": "x",
          "y": "15_Surrealism",
          "yref": "y"
         },
         {
          "font": {
           "color": "#000000"
          },
          "showarrow": false,
          "text": "141",
          "x": "15_Surrealism",
          "xref": "x",
          "y": "15_Surrealism",
          "yref": "y"
         },
         {
          "font": {
           "color": "#000000"
          },
          "showarrow": false,
          "text": "9",
          "x": "16_AbstractArt",
          "xref": "x",
          "y": "15_Surrealism",
          "yref": "y"
         },
         {
          "font": {
           "color": "#000000"
          },
          "showarrow": false,
          "text": "17",
          "x": "17_NaiveArt",
          "xref": "x",
          "y": "15_Surrealism",
          "yref": "y"
         },
         {
          "font": {
           "color": "#000000"
          },
          "showarrow": false,
          "text": "5",
          "x": "18_PopArt",
          "xref": "x",
          "y": "15_Surrealism",
          "yref": "y"
         },
         {
          "font": {
           "color": "#000000"
          },
          "showarrow": false,
          "text": "9",
          "x": "19_ChineseArt",
          "xref": "x",
          "y": "15_Surrealism",
          "yref": "y"
         },
         {
          "font": {
           "color": "#000000"
          },
          "showarrow": false,
          "text": "3",
          "x": "20_JapaneseArt",
          "xref": "x",
          "y": "15_Surrealism",
          "yref": "y"
         },
         {
          "font": {
           "color": "#000000"
          },
          "showarrow": false,
          "text": "0",
          "x": "01_Byzantin_Iconography",
          "xref": "x",
          "y": "14_Cubism",
          "yref": "y"
         },
         {
          "font": {
           "color": "#000000"
          },
          "showarrow": false,
          "text": "1",
          "x": "02_Early_Renaissance",
          "xref": "x",
          "y": "14_Cubism",
          "yref": "y"
         },
         {
          "font": {
           "color": "#000000"
          },
          "showarrow": false,
          "text": "0",
          "x": "03_Northern_Renaissance",
          "xref": "x",
          "y": "14_Cubism",
          "yref": "y"
         },
         {
          "font": {
           "color": "#000000"
          },
          "showarrow": false,
          "text": "0",
          "x": "04_High_Renaissance",
          "xref": "x",
          "y": "14_Cubism",
          "yref": "y"
         },
         {
          "font": {
           "color": "#000000"
          },
          "showarrow": false,
          "text": "0",
          "x": "05_Baroque",
          "xref": "x",
          "y": "14_Cubism",
          "yref": "y"
         },
         {
          "font": {
           "color": "#000000"
          },
          "showarrow": false,
          "text": "0",
          "x": "06_Rococo",
          "xref": "x",
          "y": "14_Cubism",
          "yref": "y"
         },
         {
          "font": {
           "color": "#000000"
          },
          "showarrow": false,
          "text": "0",
          "x": "07_Romanticism",
          "xref": "x",
          "y": "14_Cubism",
          "yref": "y"
         },
         {
          "font": {
           "color": "#000000"
          },
          "showarrow": false,
          "text": "1",
          "x": "08_Realism",
          "xref": "x",
          "y": "14_Cubism",
          "yref": "y"
         },
         {
          "font": {
           "color": "#000000"
          },
          "showarrow": false,
          "text": "0",
          "x": "09_Impressionism",
          "xref": "x",
          "y": "14_Cubism",
          "yref": "y"
         },
         {
          "font": {
           "color": "#000000"
          },
          "showarrow": false,
          "text": "4",
          "x": "10_Post_Impressionism",
          "xref": "x",
          "y": "14_Cubism",
          "yref": "y"
         },
         {
          "font": {
           "color": "#000000"
          },
          "showarrow": false,
          "text": "10",
          "x": "11_Expressionism",
          "xref": "x",
          "y": "14_Cubism",
          "yref": "y"
         },
         {
          "font": {
           "color": "#000000"
          },
          "showarrow": false,
          "text": "0",
          "x": "12_Symbolism",
          "xref": "x",
          "y": "14_Cubism",
          "yref": "y"
         },
         {
          "font": {
           "color": "#000000"
          },
          "showarrow": false,
          "text": "2",
          "x": "13_Fauvism",
          "xref": "x",
          "y": "14_Cubism",
          "yref": "y"
         },
         {
          "font": {
           "color": "#FFFFFF"
          },
          "showarrow": false,
          "text": "205",
          "x": "14_Cubism",
          "xref": "x",
          "y": "14_Cubism",
          "yref": "y"
         },
         {
          "font": {
           "color": "#000000"
          },
          "showarrow": false,
          "text": "9",
          "x": "15_Surrealism",
          "xref": "x",
          "y": "14_Cubism",
          "yref": "y"
         },
         {
          "font": {
           "color": "#000000"
          },
          "showarrow": false,
          "text": "19",
          "x": "16_AbstractArt",
          "xref": "x",
          "y": "14_Cubism",
          "yref": "y"
         },
         {
          "font": {
           "color": "#000000"
          },
          "showarrow": false,
          "text": "4",
          "x": "17_NaiveArt",
          "xref": "x",
          "y": "14_Cubism",
          "yref": "y"
         },
         {
          "font": {
           "color": "#000000"
          },
          "showarrow": false,
          "text": "3",
          "x": "18_PopArt",
          "xref": "x",
          "y": "14_Cubism",
          "yref": "y"
         },
         {
          "font": {
           "color": "#000000"
          },
          "showarrow": false,
          "text": "0",
          "x": "19_ChineseArt",
          "xref": "x",
          "y": "14_Cubism",
          "yref": "y"
         },
         {
          "font": {
           "color": "#000000"
          },
          "showarrow": false,
          "text": "0",
          "x": "20_JapaneseArt",
          "xref": "x",
          "y": "14_Cubism",
          "yref": "y"
         },
         {
          "font": {
           "color": "#000000"
          },
          "showarrow": false,
          "text": "0",
          "x": "01_Byzantin_Iconography",
          "xref": "x",
          "y": "13_Fauvism",
          "yref": "y"
         },
         {
          "font": {
           "color": "#000000"
          },
          "showarrow": false,
          "text": "1",
          "x": "02_Early_Renaissance",
          "xref": "x",
          "y": "13_Fauvism",
          "yref": "y"
         },
         {
          "font": {
           "color": "#000000"
          },
          "showarrow": false,
          "text": "1",
          "x": "03_Northern_Renaissance",
          "xref": "x",
          "y": "13_Fauvism",
          "yref": "y"
         },
         {
          "font": {
           "color": "#000000"
          },
          "showarrow": false,
          "text": "0",
          "x": "04_High_Renaissance",
          "xref": "x",
          "y": "13_Fauvism",
          "yref": "y"
         },
         {
          "font": {
           "color": "#000000"
          },
          "showarrow": false,
          "text": "0",
          "x": "05_Baroque",
          "xref": "x",
          "y": "13_Fauvism",
          "yref": "y"
         },
         {
          "font": {
           "color": "#000000"
          },
          "showarrow": false,
          "text": "0",
          "x": "06_Rococo",
          "xref": "x",
          "y": "13_Fauvism",
          "yref": "y"
         },
         {
          "font": {
           "color": "#000000"
          },
          "showarrow": false,
          "text": "0",
          "x": "07_Romanticism",
          "xref": "x",
          "y": "13_Fauvism",
          "yref": "y"
         },
         {
          "font": {
           "color": "#000000"
          },
          "showarrow": false,
          "text": "0",
          "x": "08_Realism",
          "xref": "x",
          "y": "13_Fauvism",
          "yref": "y"
         },
         {
          "font": {
           "color": "#000000"
          },
          "showarrow": false,
          "text": "2",
          "x": "09_Impressionism",
          "xref": "x",
          "y": "13_Fauvism",
          "yref": "y"
         },
         {
          "font": {
           "color": "#000000"
          },
          "showarrow": false,
          "text": "23",
          "x": "10_Post_Impressionism",
          "xref": "x",
          "y": "13_Fauvism",
          "yref": "y"
         },
         {
          "font": {
           "color": "#000000"
          },
          "showarrow": false,
          "text": "27",
          "x": "11_Expressionism",
          "xref": "x",
          "y": "13_Fauvism",
          "yref": "y"
         },
         {
          "font": {
           "color": "#000000"
          },
          "showarrow": false,
          "text": "0",
          "x": "12_Symbolism",
          "xref": "x",
          "y": "13_Fauvism",
          "yref": "y"
         },
         {
          "font": {
           "color": "#000000"
          },
          "showarrow": false,
          "text": "94",
          "x": "13_Fauvism",
          "xref": "x",
          "y": "13_Fauvism",
          "yref": "y"
         },
         {
          "font": {
           "color": "#000000"
          },
          "showarrow": false,
          "text": "0",
          "x": "14_Cubism",
          "xref": "x",
          "y": "13_Fauvism",
          "yref": "y"
         },
         {
          "font": {
           "color": "#000000"
          },
          "showarrow": false,
          "text": "0",
          "x": "15_Surrealism",
          "xref": "x",
          "y": "13_Fauvism",
          "yref": "y"
         },
         {
          "font": {
           "color": "#000000"
          },
          "showarrow": false,
          "text": "1",
          "x": "16_AbstractArt",
          "xref": "x",
          "y": "13_Fauvism",
          "yref": "y"
         },
         {
          "font": {
           "color": "#000000"
          },
          "showarrow": false,
          "text": "4",
          "x": "17_NaiveArt",
          "xref": "x",
          "y": "13_Fauvism",
          "yref": "y"
         },
         {
          "font": {
           "color": "#000000"
          },
          "showarrow": false,
          "text": "1",
          "x": "18_PopArt",
          "xref": "x",
          "y": "13_Fauvism",
          "yref": "y"
         },
         {
          "font": {
           "color": "#000000"
          },
          "showarrow": false,
          "text": "0",
          "x": "19_ChineseArt",
          "xref": "x",
          "y": "13_Fauvism",
          "yref": "y"
         },
         {
          "font": {
           "color": "#000000"
          },
          "showarrow": false,
          "text": "0",
          "x": "20_JapaneseArt",
          "xref": "x",
          "y": "13_Fauvism",
          "yref": "y"
         },
         {
          "font": {
           "color": "#000000"
          },
          "showarrow": false,
          "text": "0",
          "x": "01_Byzantin_Iconography",
          "xref": "x",
          "y": "12_Symbolism",
          "yref": "y"
         },
         {
          "font": {
           "color": "#000000"
          },
          "showarrow": false,
          "text": "4",
          "x": "02_Early_Renaissance",
          "xref": "x",
          "y": "12_Symbolism",
          "yref": "y"
         },
         {
          "font": {
           "color": "#000000"
          },
          "showarrow": false,
          "text": "4",
          "x": "03_Northern_Renaissance",
          "xref": "x",
          "y": "12_Symbolism",
          "yref": "y"
         },
         {
          "font": {
           "color": "#000000"
          },
          "showarrow": false,
          "text": "0",
          "x": "04_High_Renaissance",
          "xref": "x",
          "y": "12_Symbolism",
          "yref": "y"
         },
         {
          "font": {
           "color": "#000000"
          },
          "showarrow": false,
          "text": "0",
          "x": "05_Baroque",
          "xref": "x",
          "y": "12_Symbolism",
          "yref": "y"
         },
         {
          "font": {
           "color": "#000000"
          },
          "showarrow": false,
          "text": "0",
          "x": "06_Rococo",
          "xref": "x",
          "y": "12_Symbolism",
          "yref": "y"
         },
         {
          "font": {
           "color": "#000000"
          },
          "showarrow": false,
          "text": "1",
          "x": "07_Romanticism",
          "xref": "x",
          "y": "12_Symbolism",
          "yref": "y"
         },
         {
          "font": {
           "color": "#000000"
          },
          "showarrow": false,
          "text": "13",
          "x": "08_Realism",
          "xref": "x",
          "y": "12_Symbolism",
          "yref": "y"
         },
         {
          "font": {
           "color": "#000000"
          },
          "showarrow": false,
          "text": "4",
          "x": "09_Impressionism",
          "xref": "x",
          "y": "12_Symbolism",
          "yref": "y"
         },
         {
          "font": {
           "color": "#000000"
          },
          "showarrow": false,
          "text": "23",
          "x": "10_Post_Impressionism",
          "xref": "x",
          "y": "12_Symbolism",
          "yref": "y"
         },
         {
          "font": {
           "color": "#000000"
          },
          "showarrow": false,
          "text": "8",
          "x": "11_Expressionism",
          "xref": "x",
          "y": "12_Symbolism",
          "yref": "y"
         },
         {
          "font": {
           "color": "#000000"
          },
          "showarrow": false,
          "text": "159",
          "x": "12_Symbolism",
          "xref": "x",
          "y": "12_Symbolism",
          "yref": "y"
         },
         {
          "font": {
           "color": "#000000"
          },
          "showarrow": false,
          "text": "0",
          "x": "13_Fauvism",
          "xref": "x",
          "y": "12_Symbolism",
          "yref": "y"
         },
         {
          "font": {
           "color": "#000000"
          },
          "showarrow": false,
          "text": "0",
          "x": "14_Cubism",
          "xref": "x",
          "y": "12_Symbolism",
          "yref": "y"
         },
         {
          "font": {
           "color": "#000000"
          },
          "showarrow": false,
          "text": "12",
          "x": "15_Surrealism",
          "xref": "x",
          "y": "12_Symbolism",
          "yref": "y"
         },
         {
          "font": {
           "color": "#000000"
          },
          "showarrow": false,
          "text": "2",
          "x": "16_AbstractArt",
          "xref": "x",
          "y": "12_Symbolism",
          "yref": "y"
         },
         {
          "font": {
           "color": "#000000"
          },
          "showarrow": false,
          "text": "8",
          "x": "17_NaiveArt",
          "xref": "x",
          "y": "12_Symbolism",
          "yref": "y"
         },
         {
          "font": {
           "color": "#000000"
          },
          "showarrow": false,
          "text": "0",
          "x": "18_PopArt",
          "xref": "x",
          "y": "12_Symbolism",
          "yref": "y"
         },
         {
          "font": {
           "color": "#000000"
          },
          "showarrow": false,
          "text": "0",
          "x": "19_ChineseArt",
          "xref": "x",
          "y": "12_Symbolism",
          "yref": "y"
         },
         {
          "font": {
           "color": "#000000"
          },
          "showarrow": false,
          "text": "1",
          "x": "20_JapaneseArt",
          "xref": "x",
          "y": "12_Symbolism",
          "yref": "y"
         },
         {
          "font": {
           "color": "#000000"
          },
          "showarrow": false,
          "text": "0",
          "x": "01_Byzantin_Iconography",
          "xref": "x",
          "y": "11_Expressionism",
          "yref": "y"
         },
         {
          "font": {
           "color": "#000000"
          },
          "showarrow": false,
          "text": "0",
          "x": "02_Early_Renaissance",
          "xref": "x",
          "y": "11_Expressionism",
          "yref": "y"
         },
         {
          "font": {
           "color": "#000000"
          },
          "showarrow": false,
          "text": "2",
          "x": "03_Northern_Renaissance",
          "xref": "x",
          "y": "11_Expressionism",
          "yref": "y"
         },
         {
          "font": {
           "color": "#000000"
          },
          "showarrow": false,
          "text": "1",
          "x": "04_High_Renaissance",
          "xref": "x",
          "y": "11_Expressionism",
          "yref": "y"
         },
         {
          "font": {
           "color": "#000000"
          },
          "showarrow": false,
          "text": "0",
          "x": "05_Baroque",
          "xref": "x",
          "y": "11_Expressionism",
          "yref": "y"
         },
         {
          "font": {
           "color": "#000000"
          },
          "showarrow": false,
          "text": "0",
          "x": "06_Rococo",
          "xref": "x",
          "y": "11_Expressionism",
          "yref": "y"
         },
         {
          "font": {
           "color": "#000000"
          },
          "showarrow": false,
          "text": "1",
          "x": "07_Romanticism",
          "xref": "x",
          "y": "11_Expressionism",
          "yref": "y"
         },
         {
          "font": {
           "color": "#000000"
          },
          "showarrow": false,
          "text": "6",
          "x": "08_Realism",
          "xref": "x",
          "y": "11_Expressionism",
          "yref": "y"
         },
         {
          "font": {
           "color": "#000000"
          },
          "showarrow": false,
          "text": "7",
          "x": "09_Impressionism",
          "xref": "x",
          "y": "11_Expressionism",
          "yref": "y"
         },
         {
          "font": {
           "color": "#000000"
          },
          "showarrow": false,
          "text": "39",
          "x": "10_Post_Impressionism",
          "xref": "x",
          "y": "11_Expressionism",
          "yref": "y"
         },
         {
          "font": {
           "color": "#000000"
          },
          "showarrow": false,
          "text": "102",
          "x": "11_Expressionism",
          "xref": "x",
          "y": "11_Expressionism",
          "yref": "y"
         },
         {
          "font": {
           "color": "#000000"
          },
          "showarrow": false,
          "text": "14",
          "x": "12_Symbolism",
          "xref": "x",
          "y": "11_Expressionism",
          "yref": "y"
         },
         {
          "font": {
           "color": "#000000"
          },
          "showarrow": false,
          "text": "22",
          "x": "13_Fauvism",
          "xref": "x",
          "y": "11_Expressionism",
          "yref": "y"
         },
         {
          "font": {
           "color": "#000000"
          },
          "showarrow": false,
          "text": "6",
          "x": "14_Cubism",
          "xref": "x",
          "y": "11_Expressionism",
          "yref": "y"
         },
         {
          "font": {
           "color": "#000000"
          },
          "showarrow": false,
          "text": "6",
          "x": "15_Surrealism",
          "xref": "x",
          "y": "11_Expressionism",
          "yref": "y"
         },
         {
          "font": {
           "color": "#000000"
          },
          "showarrow": false,
          "text": "9",
          "x": "16_AbstractArt",
          "xref": "x",
          "y": "11_Expressionism",
          "yref": "y"
         },
         {
          "font": {
           "color": "#000000"
          },
          "showarrow": false,
          "text": "11",
          "x": "17_NaiveArt",
          "xref": "x",
          "y": "11_Expressionism",
          "yref": "y"
         },
         {
          "font": {
           "color": "#000000"
          },
          "showarrow": false,
          "text": "2",
          "x": "18_PopArt",
          "xref": "x",
          "y": "11_Expressionism",
          "yref": "y"
         },
         {
          "font": {
           "color": "#000000"
          },
          "showarrow": false,
          "text": "1",
          "x": "19_ChineseArt",
          "xref": "x",
          "y": "11_Expressionism",
          "yref": "y"
         },
         {
          "font": {
           "color": "#000000"
          },
          "showarrow": false,
          "text": "4",
          "x": "20_JapaneseArt",
          "xref": "x",
          "y": "11_Expressionism",
          "yref": "y"
         },
         {
          "font": {
           "color": "#000000"
          },
          "showarrow": false,
          "text": "0",
          "x": "01_Byzantin_Iconography",
          "xref": "x",
          "y": "10_Post_Impressionism",
          "yref": "y"
         },
         {
          "font": {
           "color": "#000000"
          },
          "showarrow": false,
          "text": "2",
          "x": "02_Early_Renaissance",
          "xref": "x",
          "y": "10_Post_Impressionism",
          "yref": "y"
         },
         {
          "font": {
           "color": "#000000"
          },
          "showarrow": false,
          "text": "3",
          "x": "03_Northern_Renaissance",
          "xref": "x",
          "y": "10_Post_Impressionism",
          "yref": "y"
         },
         {
          "font": {
           "color": "#000000"
          },
          "showarrow": false,
          "text": "0",
          "x": "04_High_Renaissance",
          "xref": "x",
          "y": "10_Post_Impressionism",
          "yref": "y"
         },
         {
          "font": {
           "color": "#000000"
          },
          "showarrow": false,
          "text": "1",
          "x": "05_Baroque",
          "xref": "x",
          "y": "10_Post_Impressionism",
          "yref": "y"
         },
         {
          "font": {
           "color": "#000000"
          },
          "showarrow": false,
          "text": "0",
          "x": "06_Rococo",
          "xref": "x",
          "y": "10_Post_Impressionism",
          "yref": "y"
         },
         {
          "font": {
           "color": "#000000"
          },
          "showarrow": false,
          "text": "1",
          "x": "07_Romanticism",
          "xref": "x",
          "y": "10_Post_Impressionism",
          "yref": "y"
         },
         {
          "font": {
           "color": "#000000"
          },
          "showarrow": false,
          "text": "9",
          "x": "08_Realism",
          "xref": "x",
          "y": "10_Post_Impressionism",
          "yref": "y"
         },
         {
          "font": {
           "color": "#000000"
          },
          "showarrow": false,
          "text": "22",
          "x": "09_Impressionism",
          "xref": "x",
          "y": "10_Post_Impressionism",
          "yref": "y"
         },
         {
          "font": {
           "color": "#FFFFFF"
          },
          "showarrow": false,
          "text": "178",
          "x": "10_Post_Impressionism",
          "xref": "x",
          "y": "10_Post_Impressionism",
          "yref": "y"
         },
         {
          "font": {
           "color": "#000000"
          },
          "showarrow": false,
          "text": "26",
          "x": "11_Expressionism",
          "xref": "x",
          "y": "10_Post_Impressionism",
          "yref": "y"
         },
         {
          "font": {
           "color": "#000000"
          },
          "showarrow": false,
          "text": "17",
          "x": "12_Symbolism",
          "xref": "x",
          "y": "10_Post_Impressionism",
          "yref": "y"
         },
         {
          "font": {
           "color": "#000000"
          },
          "showarrow": false,
          "text": "29",
          "x": "13_Fauvism",
          "xref": "x",
          "y": "10_Post_Impressionism",
          "yref": "y"
         },
         {
          "font": {
           "color": "#000000"
          },
          "showarrow": false,
          "text": "3",
          "x": "14_Cubism",
          "xref": "x",
          "y": "10_Post_Impressionism",
          "yref": "y"
         },
         {
          "font": {
           "color": "#000000"
          },
          "showarrow": false,
          "text": "1",
          "x": "15_Surrealism",
          "xref": "x",
          "y": "10_Post_Impressionism",
          "yref": "y"
         },
         {
          "font": {
           "color": "#000000"
          },
          "showarrow": false,
          "text": "1",
          "x": "16_AbstractArt",
          "xref": "x",
          "y": "10_Post_Impressionism",
          "yref": "y"
         },
         {
          "font": {
           "color": "#000000"
          },
          "showarrow": false,
          "text": "10",
          "x": "17_NaiveArt",
          "xref": "x",
          "y": "10_Post_Impressionism",
          "yref": "y"
         },
         {
          "font": {
           "color": "#000000"
          },
          "showarrow": false,
          "text": "0",
          "x": "18_PopArt",
          "xref": "x",
          "y": "10_Post_Impressionism",
          "yref": "y"
         },
         {
          "font": {
           "color": "#000000"
          },
          "showarrow": false,
          "text": "0",
          "x": "19_ChineseArt",
          "xref": "x",
          "y": "10_Post_Impressionism",
          "yref": "y"
         },
         {
          "font": {
           "color": "#000000"
          },
          "showarrow": false,
          "text": "3",
          "x": "20_JapaneseArt",
          "xref": "x",
          "y": "10_Post_Impressionism",
          "yref": "y"
         },
         {
          "font": {
           "color": "#000000"
          },
          "showarrow": false,
          "text": "0",
          "x": "01_Byzantin_Iconography",
          "xref": "x",
          "y": "09_Impressionism",
          "yref": "y"
         },
         {
          "font": {
           "color": "#000000"
          },
          "showarrow": false,
          "text": "0",
          "x": "02_Early_Renaissance",
          "xref": "x",
          "y": "09_Impressionism",
          "yref": "y"
         },
         {
          "font": {
           "color": "#000000"
          },
          "showarrow": false,
          "text": "0",
          "x": "03_Northern_Renaissance",
          "xref": "x",
          "y": "09_Impressionism",
          "yref": "y"
         },
         {
          "font": {
           "color": "#000000"
          },
          "showarrow": false,
          "text": "1",
          "x": "04_High_Renaissance",
          "xref": "x",
          "y": "09_Impressionism",
          "yref": "y"
         },
         {
          "font": {
           "color": "#000000"
          },
          "showarrow": false,
          "text": "1",
          "x": "05_Baroque",
          "xref": "x",
          "y": "09_Impressionism",
          "yref": "y"
         },
         {
          "font": {
           "color": "#000000"
          },
          "showarrow": false,
          "text": "0",
          "x": "06_Rococo",
          "xref": "x",
          "y": "09_Impressionism",
          "yref": "y"
         },
         {
          "font": {
           "color": "#000000"
          },
          "showarrow": false,
          "text": "4",
          "x": "07_Romanticism",
          "xref": "x",
          "y": "09_Impressionism",
          "yref": "y"
         },
         {
          "font": {
           "color": "#000000"
          },
          "showarrow": false,
          "text": "24",
          "x": "08_Realism",
          "xref": "x",
          "y": "09_Impressionism",
          "yref": "y"
         },
         {
          "font": {
           "color": "#FFFFFF"
          },
          "showarrow": false,
          "text": "194",
          "x": "09_Impressionism",
          "xref": "x",
          "y": "09_Impressionism",
          "yref": "y"
         },
         {
          "font": {
           "color": "#000000"
          },
          "showarrow": false,
          "text": "22",
          "x": "10_Post_Impressionism",
          "xref": "x",
          "y": "09_Impressionism",
          "yref": "y"
         },
         {
          "font": {
           "color": "#000000"
          },
          "showarrow": false,
          "text": "6",
          "x": "11_Expressionism",
          "xref": "x",
          "y": "09_Impressionism",
          "yref": "y"
         },
         {
          "font": {
           "color": "#000000"
          },
          "showarrow": false,
          "text": "2",
          "x": "12_Symbolism",
          "xref": "x",
          "y": "09_Impressionism",
          "yref": "y"
         },
         {
          "font": {
           "color": "#000000"
          },
          "showarrow": false,
          "text": "1",
          "x": "13_Fauvism",
          "xref": "x",
          "y": "09_Impressionism",
          "yref": "y"
         },
         {
          "font": {
           "color": "#000000"
          },
          "showarrow": false,
          "text": "0",
          "x": "14_Cubism",
          "xref": "x",
          "y": "09_Impressionism",
          "yref": "y"
         },
         {
          "font": {
           "color": "#000000"
          },
          "showarrow": false,
          "text": "1",
          "x": "15_Surrealism",
          "xref": "x",
          "y": "09_Impressionism",
          "yref": "y"
         },
         {
          "font": {
           "color": "#000000"
          },
          "showarrow": false,
          "text": "0",
          "x": "16_AbstractArt",
          "xref": "x",
          "y": "09_Impressionism",
          "yref": "y"
         },
         {
          "font": {
           "color": "#000000"
          },
          "showarrow": false,
          "text": "2",
          "x": "17_NaiveArt",
          "xref": "x",
          "y": "09_Impressionism",
          "yref": "y"
         },
         {
          "font": {
           "color": "#000000"
          },
          "showarrow": false,
          "text": "0",
          "x": "18_PopArt",
          "xref": "x",
          "y": "09_Impressionism",
          "yref": "y"
         },
         {
          "font": {
           "color": "#000000"
          },
          "showarrow": false,
          "text": "0",
          "x": "19_ChineseArt",
          "xref": "x",
          "y": "09_Impressionism",
          "yref": "y"
         },
         {
          "font": {
           "color": "#000000"
          },
          "showarrow": false,
          "text": "1",
          "x": "20_JapaneseArt",
          "xref": "x",
          "y": "09_Impressionism",
          "yref": "y"
         },
         {
          "font": {
           "color": "#000000"
          },
          "showarrow": false,
          "text": "0",
          "x": "01_Byzantin_Iconography",
          "xref": "x",
          "y": "08_Realism",
          "yref": "y"
         },
         {
          "font": {
           "color": "#000000"
          },
          "showarrow": false,
          "text": "0",
          "x": "02_Early_Renaissance",
          "xref": "x",
          "y": "08_Realism",
          "yref": "y"
         },
         {
          "font": {
           "color": "#000000"
          },
          "showarrow": false,
          "text": "9",
          "x": "03_Northern_Renaissance",
          "xref": "x",
          "y": "08_Realism",
          "yref": "y"
         },
         {
          "font": {
           "color": "#000000"
          },
          "showarrow": false,
          "text": "0",
          "x": "04_High_Renaissance",
          "xref": "x",
          "y": "08_Realism",
          "yref": "y"
         },
         {
          "font": {
           "color": "#000000"
          },
          "showarrow": false,
          "text": "0",
          "x": "05_Baroque",
          "xref": "x",
          "y": "08_Realism",
          "yref": "y"
         },
         {
          "font": {
           "color": "#000000"
          },
          "showarrow": false,
          "text": "0",
          "x": "06_Rococo",
          "xref": "x",
          "y": "08_Realism",
          "yref": "y"
         },
         {
          "font": {
           "color": "#000000"
          },
          "showarrow": false,
          "text": "3",
          "x": "07_Romanticism",
          "xref": "x",
          "y": "08_Realism",
          "yref": "y"
         },
         {
          "font": {
           "color": "#FFFFFF"
          },
          "showarrow": false,
          "text": "220",
          "x": "08_Realism",
          "xref": "x",
          "y": "08_Realism",
          "yref": "y"
         },
         {
          "font": {
           "color": "#000000"
          },
          "showarrow": false,
          "text": "15",
          "x": "09_Impressionism",
          "xref": "x",
          "y": "08_Realism",
          "yref": "y"
         },
         {
          "font": {
           "color": "#000000"
          },
          "showarrow": false,
          "text": "17",
          "x": "10_Post_Impressionism",
          "xref": "x",
          "y": "08_Realism",
          "yref": "y"
         },
         {
          "font": {
           "color": "#000000"
          },
          "showarrow": false,
          "text": "6",
          "x": "11_Expressionism",
          "xref": "x",
          "y": "08_Realism",
          "yref": "y"
         },
         {
          "font": {
           "color": "#000000"
          },
          "showarrow": false,
          "text": "14",
          "x": "12_Symbolism",
          "xref": "x",
          "y": "08_Realism",
          "yref": "y"
         },
         {
          "font": {
           "color": "#000000"
          },
          "showarrow": false,
          "text": "0",
          "x": "13_Fauvism",
          "xref": "x",
          "y": "08_Realism",
          "yref": "y"
         },
         {
          "font": {
           "color": "#000000"
          },
          "showarrow": false,
          "text": "0",
          "x": "14_Cubism",
          "xref": "x",
          "y": "08_Realism",
          "yref": "y"
         },
         {
          "font": {
           "color": "#000000"
          },
          "showarrow": false,
          "text": "1",
          "x": "15_Surrealism",
          "xref": "x",
          "y": "08_Realism",
          "yref": "y"
         },
         {
          "font": {
           "color": "#000000"
          },
          "showarrow": false,
          "text": "0",
          "x": "16_AbstractArt",
          "xref": "x",
          "y": "08_Realism",
          "yref": "y"
         },
         {
          "font": {
           "color": "#000000"
          },
          "showarrow": false,
          "text": "6",
          "x": "17_NaiveArt",
          "xref": "x",
          "y": "08_Realism",
          "yref": "y"
         },
         {
          "font": {
           "color": "#000000"
          },
          "showarrow": false,
          "text": "2",
          "x": "18_PopArt",
          "xref": "x",
          "y": "08_Realism",
          "yref": "y"
         },
         {
          "font": {
           "color": "#000000"
          },
          "showarrow": false,
          "text": "0",
          "x": "19_ChineseArt",
          "xref": "x",
          "y": "08_Realism",
          "yref": "y"
         },
         {
          "font": {
           "color": "#000000"
          },
          "showarrow": false,
          "text": "0",
          "x": "20_JapaneseArt",
          "xref": "x",
          "y": "08_Realism",
          "yref": "y"
         },
         {
          "font": {
           "color": "#000000"
          },
          "showarrow": false,
          "text": "0",
          "x": "01_Byzantin_Iconography",
          "xref": "x",
          "y": "07_Romanticism",
          "yref": "y"
         },
         {
          "font": {
           "color": "#000000"
          },
          "showarrow": false,
          "text": "0",
          "x": "02_Early_Renaissance",
          "xref": "x",
          "y": "07_Romanticism",
          "yref": "y"
         },
         {
          "font": {
           "color": "#000000"
          },
          "showarrow": false,
          "text": "0",
          "x": "03_Northern_Renaissance",
          "xref": "x",
          "y": "07_Romanticism",
          "yref": "y"
         },
         {
          "font": {
           "color": "#000000"
          },
          "showarrow": false,
          "text": "2",
          "x": "04_High_Renaissance",
          "xref": "x",
          "y": "07_Romanticism",
          "yref": "y"
         },
         {
          "font": {
           "color": "#000000"
          },
          "showarrow": false,
          "text": "41",
          "x": "05_Baroque",
          "xref": "x",
          "y": "07_Romanticism",
          "yref": "y"
         },
         {
          "font": {
           "color": "#000000"
          },
          "showarrow": false,
          "text": "21",
          "x": "06_Rococo",
          "xref": "x",
          "y": "07_Romanticism",
          "yref": "y"
         },
         {
          "font": {
           "color": "#000000"
          },
          "showarrow": false,
          "text": "109",
          "x": "07_Romanticism",
          "xref": "x",
          "y": "07_Romanticism",
          "yref": "y"
         },
         {
          "font": {
           "color": "#000000"
          },
          "showarrow": false,
          "text": "2",
          "x": "08_Realism",
          "xref": "x",
          "y": "07_Romanticism",
          "yref": "y"
         },
         {
          "font": {
           "color": "#000000"
          },
          "showarrow": false,
          "text": "5",
          "x": "09_Impressionism",
          "xref": "x",
          "y": "07_Romanticism",
          "yref": "y"
         },
         {
          "font": {
           "color": "#000000"
          },
          "showarrow": false,
          "text": "0",
          "x": "10_Post_Impressionism",
          "xref": "x",
          "y": "07_Romanticism",
          "yref": "y"
         },
         {
          "font": {
           "color": "#000000"
          },
          "showarrow": false,
          "text": "0",
          "x": "11_Expressionism",
          "xref": "x",
          "y": "07_Romanticism",
          "yref": "y"
         },
         {
          "font": {
           "color": "#000000"
          },
          "showarrow": false,
          "text": "0",
          "x": "12_Symbolism",
          "xref": "x",
          "y": "07_Romanticism",
          "yref": "y"
         },
         {
          "font": {
           "color": "#000000"
          },
          "showarrow": false,
          "text": "0",
          "x": "13_Fauvism",
          "xref": "x",
          "y": "07_Romanticism",
          "yref": "y"
         },
         {
          "font": {
           "color": "#000000"
          },
          "showarrow": false,
          "text": "0",
          "x": "14_Cubism",
          "xref": "x",
          "y": "07_Romanticism",
          "yref": "y"
         },
         {
          "font": {
           "color": "#000000"
          },
          "showarrow": false,
          "text": "0",
          "x": "15_Surrealism",
          "xref": "x",
          "y": "07_Romanticism",
          "yref": "y"
         },
         {
          "font": {
           "color": "#000000"
          },
          "showarrow": false,
          "text": "0",
          "x": "16_AbstractArt",
          "xref": "x",
          "y": "07_Romanticism",
          "yref": "y"
         },
         {
          "font": {
           "color": "#000000"
          },
          "showarrow": false,
          "text": "0",
          "x": "17_NaiveArt",
          "xref": "x",
          "y": "07_Romanticism",
          "yref": "y"
         },
         {
          "font": {
           "color": "#000000"
          },
          "showarrow": false,
          "text": "0",
          "x": "18_PopArt",
          "xref": "x",
          "y": "07_Romanticism",
          "yref": "y"
         },
         {
          "font": {
           "color": "#000000"
          },
          "showarrow": false,
          "text": "0",
          "x": "19_ChineseArt",
          "xref": "x",
          "y": "07_Romanticism",
          "yref": "y"
         },
         {
          "font": {
           "color": "#000000"
          },
          "showarrow": false,
          "text": "0",
          "x": "20_JapaneseArt",
          "xref": "x",
          "y": "07_Romanticism",
          "yref": "y"
         },
         {
          "font": {
           "color": "#000000"
          },
          "showarrow": false,
          "text": "0",
          "x": "01_Byzantin_Iconography",
          "xref": "x",
          "y": "06_Rococo",
          "yref": "y"
         },
         {
          "font": {
           "color": "#000000"
          },
          "showarrow": false,
          "text": "0",
          "x": "02_Early_Renaissance",
          "xref": "x",
          "y": "06_Rococo",
          "yref": "y"
         },
         {
          "font": {
           "color": "#000000"
          },
          "showarrow": false,
          "text": "0",
          "x": "03_Northern_Renaissance",
          "xref": "x",
          "y": "06_Rococo",
          "yref": "y"
         },
         {
          "font": {
           "color": "#000000"
          },
          "showarrow": false,
          "text": "0",
          "x": "04_High_Renaissance",
          "xref": "x",
          "y": "06_Rococo",
          "yref": "y"
         },
         {
          "font": {
           "color": "#000000"
          },
          "showarrow": false,
          "text": "55",
          "x": "05_Baroque",
          "xref": "x",
          "y": "06_Rococo",
          "yref": "y"
         },
         {
          "font": {
           "color": "#000000"
          },
          "showarrow": false,
          "text": "64",
          "x": "06_Rococo",
          "xref": "x",
          "y": "06_Rococo",
          "yref": "y"
         },
         {
          "font": {
           "color": "#000000"
          },
          "showarrow": false,
          "text": "42",
          "x": "07_Romanticism",
          "xref": "x",
          "y": "06_Rococo",
          "yref": "y"
         },
         {
          "font": {
           "color": "#000000"
          },
          "showarrow": false,
          "text": "1",
          "x": "08_Realism",
          "xref": "x",
          "y": "06_Rococo",
          "yref": "y"
         },
         {
          "font": {
           "color": "#000000"
          },
          "showarrow": false,
          "text": "2",
          "x": "09_Impressionism",
          "xref": "x",
          "y": "06_Rococo",
          "yref": "y"
         },
         {
          "font": {
           "color": "#000000"
          },
          "showarrow": false,
          "text": "0",
          "x": "10_Post_Impressionism",
          "xref": "x",
          "y": "06_Rococo",
          "yref": "y"
         },
         {
          "font": {
           "color": "#000000"
          },
          "showarrow": false,
          "text": "1",
          "x": "11_Expressionism",
          "xref": "x",
          "y": "06_Rococo",
          "yref": "y"
         },
         {
          "font": {
           "color": "#000000"
          },
          "showarrow": false,
          "text": "1",
          "x": "12_Symbolism",
          "xref": "x",
          "y": "06_Rococo",
          "yref": "y"
         },
         {
          "font": {
           "color": "#000000"
          },
          "showarrow": false,
          "text": "0",
          "x": "13_Fauvism",
          "xref": "x",
          "y": "06_Rococo",
          "yref": "y"
         },
         {
          "font": {
           "color": "#000000"
          },
          "showarrow": false,
          "text": "0",
          "x": "14_Cubism",
          "xref": "x",
          "y": "06_Rococo",
          "yref": "y"
         },
         {
          "font": {
           "color": "#000000"
          },
          "showarrow": false,
          "text": "0",
          "x": "15_Surrealism",
          "xref": "x",
          "y": "06_Rococo",
          "yref": "y"
         },
         {
          "font": {
           "color": "#000000"
          },
          "showarrow": false,
          "text": "0",
          "x": "16_AbstractArt",
          "xref": "x",
          "y": "06_Rococo",
          "yref": "y"
         },
         {
          "font": {
           "color": "#000000"
          },
          "showarrow": false,
          "text": "0",
          "x": "17_NaiveArt",
          "xref": "x",
          "y": "06_Rococo",
          "yref": "y"
         },
         {
          "font": {
           "color": "#000000"
          },
          "showarrow": false,
          "text": "0",
          "x": "18_PopArt",
          "xref": "x",
          "y": "06_Rococo",
          "yref": "y"
         },
         {
          "font": {
           "color": "#000000"
          },
          "showarrow": false,
          "text": "0",
          "x": "19_ChineseArt",
          "xref": "x",
          "y": "06_Rococo",
          "yref": "y"
         },
         {
          "font": {
           "color": "#000000"
          },
          "showarrow": false,
          "text": "0",
          "x": "20_JapaneseArt",
          "xref": "x",
          "y": "06_Rococo",
          "yref": "y"
         },
         {
          "font": {
           "color": "#000000"
          },
          "showarrow": false,
          "text": "0",
          "x": "01_Byzantin_Iconography",
          "xref": "x",
          "y": "05_Baroque",
          "yref": "y"
         },
         {
          "font": {
           "color": "#000000"
          },
          "showarrow": false,
          "text": "0",
          "x": "02_Early_Renaissance",
          "xref": "x",
          "y": "05_Baroque",
          "yref": "y"
         },
         {
          "font": {
           "color": "#000000"
          },
          "showarrow": false,
          "text": "0",
          "x": "03_Northern_Renaissance",
          "xref": "x",
          "y": "05_Baroque",
          "yref": "y"
         },
         {
          "font": {
           "color": "#000000"
          },
          "showarrow": false,
          "text": "10",
          "x": "04_High_Renaissance",
          "xref": "x",
          "y": "05_Baroque",
          "yref": "y"
         },
         {
          "font": {
           "color": "#000000"
          },
          "showarrow": false,
          "text": "116",
          "x": "05_Baroque",
          "xref": "x",
          "y": "05_Baroque",
          "yref": "y"
         },
         {
          "font": {
           "color": "#000000"
          },
          "showarrow": false,
          "text": "30",
          "x": "06_Rococo",
          "xref": "x",
          "y": "05_Baroque",
          "yref": "y"
         },
         {
          "font": {
           "color": "#000000"
          },
          "showarrow": false,
          "text": "38",
          "x": "07_Romanticism",
          "xref": "x",
          "y": "05_Baroque",
          "yref": "y"
         },
         {
          "font": {
           "color": "#000000"
          },
          "showarrow": false,
          "text": "1",
          "x": "08_Realism",
          "xref": "x",
          "y": "05_Baroque",
          "yref": "y"
         },
         {
          "font": {
           "color": "#000000"
          },
          "showarrow": false,
          "text": "3",
          "x": "09_Impressionism",
          "xref": "x",
          "y": "05_Baroque",
          "yref": "y"
         },
         {
          "font": {
           "color": "#000000"
          },
          "showarrow": false,
          "text": "0",
          "x": "10_Post_Impressionism",
          "xref": "x",
          "y": "05_Baroque",
          "yref": "y"
         },
         {
          "font": {
           "color": "#000000"
          },
          "showarrow": false,
          "text": "0",
          "x": "11_Expressionism",
          "xref": "x",
          "y": "05_Baroque",
          "yref": "y"
         },
         {
          "font": {
           "color": "#000000"
          },
          "showarrow": false,
          "text": "1",
          "x": "12_Symbolism",
          "xref": "x",
          "y": "05_Baroque",
          "yref": "y"
         },
         {
          "font": {
           "color": "#000000"
          },
          "showarrow": false,
          "text": "0",
          "x": "13_Fauvism",
          "xref": "x",
          "y": "05_Baroque",
          "yref": "y"
         },
         {
          "font": {
           "color": "#000000"
          },
          "showarrow": false,
          "text": "0",
          "x": "14_Cubism",
          "xref": "x",
          "y": "05_Baroque",
          "yref": "y"
         },
         {
          "font": {
           "color": "#000000"
          },
          "showarrow": false,
          "text": "0",
          "x": "15_Surrealism",
          "xref": "x",
          "y": "05_Baroque",
          "yref": "y"
         },
         {
          "font": {
           "color": "#000000"
          },
          "showarrow": false,
          "text": "0",
          "x": "16_AbstractArt",
          "xref": "x",
          "y": "05_Baroque",
          "yref": "y"
         },
         {
          "font": {
           "color": "#000000"
          },
          "showarrow": false,
          "text": "0",
          "x": "17_NaiveArt",
          "xref": "x",
          "y": "05_Baroque",
          "yref": "y"
         },
         {
          "font": {
           "color": "#000000"
          },
          "showarrow": false,
          "text": "0",
          "x": "18_PopArt",
          "xref": "x",
          "y": "05_Baroque",
          "yref": "y"
         },
         {
          "font": {
           "color": "#000000"
          },
          "showarrow": false,
          "text": "1",
          "x": "19_ChineseArt",
          "xref": "x",
          "y": "05_Baroque",
          "yref": "y"
         },
         {
          "font": {
           "color": "#000000"
          },
          "showarrow": false,
          "text": "0",
          "x": "20_JapaneseArt",
          "xref": "x",
          "y": "05_Baroque",
          "yref": "y"
         },
         {
          "font": {
           "color": "#000000"
          },
          "showarrow": false,
          "text": "0",
          "x": "01_Byzantin_Iconography",
          "xref": "x",
          "y": "04_High_Renaissance",
          "yref": "y"
         },
         {
          "font": {
           "color": "#000000"
          },
          "showarrow": false,
          "text": "1",
          "x": "02_Early_Renaissance",
          "xref": "x",
          "y": "04_High_Renaissance",
          "yref": "y"
         },
         {
          "font": {
           "color": "#000000"
          },
          "showarrow": false,
          "text": "11",
          "x": "03_Northern_Renaissance",
          "xref": "x",
          "y": "04_High_Renaissance",
          "yref": "y"
         },
         {
          "font": {
           "color": "#000000"
          },
          "showarrow": false,
          "text": "121",
          "x": "04_High_Renaissance",
          "xref": "x",
          "y": "04_High_Renaissance",
          "yref": "y"
         },
         {
          "font": {
           "color": "#000000"
          },
          "showarrow": false,
          "text": "20",
          "x": "05_Baroque",
          "xref": "x",
          "y": "04_High_Renaissance",
          "yref": "y"
         },
         {
          "font": {
           "color": "#000000"
          },
          "showarrow": false,
          "text": "2",
          "x": "06_Rococo",
          "xref": "x",
          "y": "04_High_Renaissance",
          "yref": "y"
         },
         {
          "font": {
           "color": "#000000"
          },
          "showarrow": false,
          "text": "9",
          "x": "07_Romanticism",
          "xref": "x",
          "y": "04_High_Renaissance",
          "yref": "y"
         },
         {
          "font": {
           "color": "#000000"
          },
          "showarrow": false,
          "text": "0",
          "x": "08_Realism",
          "xref": "x",
          "y": "04_High_Renaissance",
          "yref": "y"
         },
         {
          "font": {
           "color": "#000000"
          },
          "showarrow": false,
          "text": "1",
          "x": "09_Impressionism",
          "xref": "x",
          "y": "04_High_Renaissance",
          "yref": "y"
         },
         {
          "font": {
           "color": "#000000"
          },
          "showarrow": false,
          "text": "0",
          "x": "10_Post_Impressionism",
          "xref": "x",
          "y": "04_High_Renaissance",
          "yref": "y"
         },
         {
          "font": {
           "color": "#000000"
          },
          "showarrow": false,
          "text": "0",
          "x": "11_Expressionism",
          "xref": "x",
          "y": "04_High_Renaissance",
          "yref": "y"
         },
         {
          "font": {
           "color": "#000000"
          },
          "showarrow": false,
          "text": "1",
          "x": "12_Symbolism",
          "xref": "x",
          "y": "04_High_Renaissance",
          "yref": "y"
         },
         {
          "font": {
           "color": "#000000"
          },
          "showarrow": false,
          "text": "0",
          "x": "13_Fauvism",
          "xref": "x",
          "y": "04_High_Renaissance",
          "yref": "y"
         },
         {
          "font": {
           "color": "#000000"
          },
          "showarrow": false,
          "text": "0",
          "x": "14_Cubism",
          "xref": "x",
          "y": "04_High_Renaissance",
          "yref": "y"
         },
         {
          "font": {
           "color": "#000000"
          },
          "showarrow": false,
          "text": "0",
          "x": "15_Surrealism",
          "xref": "x",
          "y": "04_High_Renaissance",
          "yref": "y"
         },
         {
          "font": {
           "color": "#000000"
          },
          "showarrow": false,
          "text": "0",
          "x": "16_AbstractArt",
          "xref": "x",
          "y": "04_High_Renaissance",
          "yref": "y"
         },
         {
          "font": {
           "color": "#000000"
          },
          "showarrow": false,
          "text": "0",
          "x": "17_NaiveArt",
          "xref": "x",
          "y": "04_High_Renaissance",
          "yref": "y"
         },
         {
          "font": {
           "color": "#000000"
          },
          "showarrow": false,
          "text": "0",
          "x": "18_PopArt",
          "xref": "x",
          "y": "04_High_Renaissance",
          "yref": "y"
         },
         {
          "font": {
           "color": "#000000"
          },
          "showarrow": false,
          "text": "0",
          "x": "19_ChineseArt",
          "xref": "x",
          "y": "04_High_Renaissance",
          "yref": "y"
         },
         {
          "font": {
           "color": "#000000"
          },
          "showarrow": false,
          "text": "0",
          "x": "20_JapaneseArt",
          "xref": "x",
          "y": "04_High_Renaissance",
          "yref": "y"
         },
         {
          "font": {
           "color": "#000000"
          },
          "showarrow": false,
          "text": "0",
          "x": "01_Byzantin_Iconography",
          "xref": "x",
          "y": "03_Northern_Renaissance",
          "yref": "y"
         },
         {
          "font": {
           "color": "#000000"
          },
          "showarrow": false,
          "text": "6",
          "x": "02_Early_Renaissance",
          "xref": "x",
          "y": "03_Northern_Renaissance",
          "yref": "y"
         },
         {
          "font": {
           "color": "#000000"
          },
          "showarrow": false,
          "text": "148",
          "x": "03_Northern_Renaissance",
          "xref": "x",
          "y": "03_Northern_Renaissance",
          "yref": "y"
         },
         {
          "font": {
           "color": "#000000"
          },
          "showarrow": false,
          "text": "7",
          "x": "04_High_Renaissance",
          "xref": "x",
          "y": "03_Northern_Renaissance",
          "yref": "y"
         },
         {
          "font": {
           "color": "#000000"
          },
          "showarrow": false,
          "text": "1",
          "x": "05_Baroque",
          "xref": "x",
          "y": "03_Northern_Renaissance",
          "yref": "y"
         },
         {
          "font": {
           "color": "#000000"
          },
          "showarrow": false,
          "text": "1",
          "x": "06_Rococo",
          "xref": "x",
          "y": "03_Northern_Renaissance",
          "yref": "y"
         },
         {
          "font": {
           "color": "#000000"
          },
          "showarrow": false,
          "text": "0",
          "x": "07_Romanticism",
          "xref": "x",
          "y": "03_Northern_Renaissance",
          "yref": "y"
         },
         {
          "font": {
           "color": "#000000"
          },
          "showarrow": false,
          "text": "3",
          "x": "08_Realism",
          "xref": "x",
          "y": "03_Northern_Renaissance",
          "yref": "y"
         },
         {
          "font": {
           "color": "#000000"
          },
          "showarrow": false,
          "text": "0",
          "x": "09_Impressionism",
          "xref": "x",
          "y": "03_Northern_Renaissance",
          "yref": "y"
         },
         {
          "font": {
           "color": "#000000"
          },
          "showarrow": false,
          "text": "0",
          "x": "10_Post_Impressionism",
          "xref": "x",
          "y": "03_Northern_Renaissance",
          "yref": "y"
         },
         {
          "font": {
           "color": "#000000"
          },
          "showarrow": false,
          "text": "0",
          "x": "11_Expressionism",
          "xref": "x",
          "y": "03_Northern_Renaissance",
          "yref": "y"
         },
         {
          "font": {
           "color": "#000000"
          },
          "showarrow": false,
          "text": "5",
          "x": "12_Symbolism",
          "xref": "x",
          "y": "03_Northern_Renaissance",
          "yref": "y"
         },
         {
          "font": {
           "color": "#000000"
          },
          "showarrow": false,
          "text": "0",
          "x": "13_Fauvism",
          "xref": "x",
          "y": "03_Northern_Renaissance",
          "yref": "y"
         },
         {
          "font": {
           "color": "#000000"
          },
          "showarrow": false,
          "text": "1",
          "x": "14_Cubism",
          "xref": "x",
          "y": "03_Northern_Renaissance",
          "yref": "y"
         },
         {
          "font": {
           "color": "#000000"
          },
          "showarrow": false,
          "text": "2",
          "x": "15_Surrealism",
          "xref": "x",
          "y": "03_Northern_Renaissance",
          "yref": "y"
         },
         {
          "font": {
           "color": "#000000"
          },
          "showarrow": false,
          "text": "0",
          "x": "16_AbstractArt",
          "xref": "x",
          "y": "03_Northern_Renaissance",
          "yref": "y"
         },
         {
          "font": {
           "color": "#000000"
          },
          "showarrow": false,
          "text": "1",
          "x": "17_NaiveArt",
          "xref": "x",
          "y": "03_Northern_Renaissance",
          "yref": "y"
         },
         {
          "font": {
           "color": "#000000"
          },
          "showarrow": false,
          "text": "1",
          "x": "18_PopArt",
          "xref": "x",
          "y": "03_Northern_Renaissance",
          "yref": "y"
         },
         {
          "font": {
           "color": "#000000"
          },
          "showarrow": false,
          "text": "1",
          "x": "19_ChineseArt",
          "xref": "x",
          "y": "03_Northern_Renaissance",
          "yref": "y"
         },
         {
          "font": {
           "color": "#000000"
          },
          "showarrow": false,
          "text": "0",
          "x": "20_JapaneseArt",
          "xref": "x",
          "y": "03_Northern_Renaissance",
          "yref": "y"
         },
         {
          "font": {
           "color": "#000000"
          },
          "showarrow": false,
          "text": "4",
          "x": "01_Byzantin_Iconography",
          "xref": "x",
          "y": "02_Early_Renaissance",
          "yref": "y"
         },
         {
          "font": {
           "color": "#000000"
          },
          "showarrow": false,
          "text": "126",
          "x": "02_Early_Renaissance",
          "xref": "x",
          "y": "02_Early_Renaissance",
          "yref": "y"
         },
         {
          "font": {
           "color": "#000000"
          },
          "showarrow": false,
          "text": "19",
          "x": "03_Northern_Renaissance",
          "xref": "x",
          "y": "02_Early_Renaissance",
          "yref": "y"
         },
         {
          "font": {
           "color": "#000000"
          },
          "showarrow": false,
          "text": "4",
          "x": "04_High_Renaissance",
          "xref": "x",
          "y": "02_Early_Renaissance",
          "yref": "y"
         },
         {
          "font": {
           "color": "#000000"
          },
          "showarrow": false,
          "text": "0",
          "x": "05_Baroque",
          "xref": "x",
          "y": "02_Early_Renaissance",
          "yref": "y"
         },
         {
          "font": {
           "color": "#000000"
          },
          "showarrow": false,
          "text": "0",
          "x": "06_Rococo",
          "xref": "x",
          "y": "02_Early_Renaissance",
          "yref": "y"
         },
         {
          "font": {
           "color": "#000000"
          },
          "showarrow": false,
          "text": "1",
          "x": "07_Romanticism",
          "xref": "x",
          "y": "02_Early_Renaissance",
          "yref": "y"
         },
         {
          "font": {
           "color": "#000000"
          },
          "showarrow": false,
          "text": "0",
          "x": "08_Realism",
          "xref": "x",
          "y": "02_Early_Renaissance",
          "yref": "y"
         },
         {
          "font": {
           "color": "#000000"
          },
          "showarrow": false,
          "text": "0",
          "x": "09_Impressionism",
          "xref": "x",
          "y": "02_Early_Renaissance",
          "yref": "y"
         },
         {
          "font": {
           "color": "#000000"
          },
          "showarrow": false,
          "text": "0",
          "x": "10_Post_Impressionism",
          "xref": "x",
          "y": "02_Early_Renaissance",
          "yref": "y"
         },
         {
          "font": {
           "color": "#000000"
          },
          "showarrow": false,
          "text": "0",
          "x": "11_Expressionism",
          "xref": "x",
          "y": "02_Early_Renaissance",
          "yref": "y"
         },
         {
          "font": {
           "color": "#000000"
          },
          "showarrow": false,
          "text": "2",
          "x": "12_Symbolism",
          "xref": "x",
          "y": "02_Early_Renaissance",
          "yref": "y"
         },
         {
          "font": {
           "color": "#000000"
          },
          "showarrow": false,
          "text": "0",
          "x": "13_Fauvism",
          "xref": "x",
          "y": "02_Early_Renaissance",
          "yref": "y"
         },
         {
          "font": {
           "color": "#000000"
          },
          "showarrow": false,
          "text": "0",
          "x": "14_Cubism",
          "xref": "x",
          "y": "02_Early_Renaissance",
          "yref": "y"
         },
         {
          "font": {
           "color": "#000000"
          },
          "showarrow": false,
          "text": "0",
          "x": "15_Surrealism",
          "xref": "x",
          "y": "02_Early_Renaissance",
          "yref": "y"
         },
         {
          "font": {
           "color": "#000000"
          },
          "showarrow": false,
          "text": "0",
          "x": "16_AbstractArt",
          "xref": "x",
          "y": "02_Early_Renaissance",
          "yref": "y"
         },
         {
          "font": {
           "color": "#000000"
          },
          "showarrow": false,
          "text": "2",
          "x": "17_NaiveArt",
          "xref": "x",
          "y": "02_Early_Renaissance",
          "yref": "y"
         },
         {
          "font": {
           "color": "#000000"
          },
          "showarrow": false,
          "text": "0",
          "x": "18_PopArt",
          "xref": "x",
          "y": "02_Early_Renaissance",
          "yref": "y"
         },
         {
          "font": {
           "color": "#000000"
          },
          "showarrow": false,
          "text": "0",
          "x": "19_ChineseArt",
          "xref": "x",
          "y": "02_Early_Renaissance",
          "yref": "y"
         },
         {
          "font": {
           "color": "#000000"
          },
          "showarrow": false,
          "text": "0",
          "x": "20_JapaneseArt",
          "xref": "x",
          "y": "02_Early_Renaissance",
          "yref": "y"
         },
         {
          "font": {
           "color": "#000000"
          },
          "showarrow": false,
          "text": "162",
          "x": "01_Byzantin_Iconography",
          "xref": "x",
          "y": "01_Byzantin_Iconography",
          "yref": "y"
         },
         {
          "font": {
           "color": "#000000"
          },
          "showarrow": false,
          "text": "5",
          "x": "02_Early_Renaissance",
          "xref": "x",
          "y": "01_Byzantin_Iconography",
          "yref": "y"
         },
         {
          "font": {
           "color": "#000000"
          },
          "showarrow": false,
          "text": "0",
          "x": "03_Northern_Renaissance",
          "xref": "x",
          "y": "01_Byzantin_Iconography",
          "yref": "y"
         },
         {
          "font": {
           "color": "#000000"
          },
          "showarrow": false,
          "text": "0",
          "x": "04_High_Renaissance",
          "xref": "x",
          "y": "01_Byzantin_Iconography",
          "yref": "y"
         },
         {
          "font": {
           "color": "#000000"
          },
          "showarrow": false,
          "text": "0",
          "x": "05_Baroque",
          "xref": "x",
          "y": "01_Byzantin_Iconography",
          "yref": "y"
         },
         {
          "font": {
           "color": "#000000"
          },
          "showarrow": false,
          "text": "0",
          "x": "06_Rococo",
          "xref": "x",
          "y": "01_Byzantin_Iconography",
          "yref": "y"
         },
         {
          "font": {
           "color": "#000000"
          },
          "showarrow": false,
          "text": "0",
          "x": "07_Romanticism",
          "xref": "x",
          "y": "01_Byzantin_Iconography",
          "yref": "y"
         },
         {
          "font": {
           "color": "#000000"
          },
          "showarrow": false,
          "text": "0",
          "x": "08_Realism",
          "xref": "x",
          "y": "01_Byzantin_Iconography",
          "yref": "y"
         },
         {
          "font": {
           "color": "#000000"
          },
          "showarrow": false,
          "text": "0",
          "x": "09_Impressionism",
          "xref": "x",
          "y": "01_Byzantin_Iconography",
          "yref": "y"
         },
         {
          "font": {
           "color": "#000000"
          },
          "showarrow": false,
          "text": "0",
          "x": "10_Post_Impressionism",
          "xref": "x",
          "y": "01_Byzantin_Iconography",
          "yref": "y"
         },
         {
          "font": {
           "color": "#000000"
          },
          "showarrow": false,
          "text": "0",
          "x": "11_Expressionism",
          "xref": "x",
          "y": "01_Byzantin_Iconography",
          "yref": "y"
         },
         {
          "font": {
           "color": "#000000"
          },
          "showarrow": false,
          "text": "1",
          "x": "12_Symbolism",
          "xref": "x",
          "y": "01_Byzantin_Iconography",
          "yref": "y"
         },
         {
          "font": {
           "color": "#000000"
          },
          "showarrow": false,
          "text": "0",
          "x": "13_Fauvism",
          "xref": "x",
          "y": "01_Byzantin_Iconography",
          "yref": "y"
         },
         {
          "font": {
           "color": "#000000"
          },
          "showarrow": false,
          "text": "1",
          "x": "14_Cubism",
          "xref": "x",
          "y": "01_Byzantin_Iconography",
          "yref": "y"
         },
         {
          "font": {
           "color": "#000000"
          },
          "showarrow": false,
          "text": "1",
          "x": "15_Surrealism",
          "xref": "x",
          "y": "01_Byzantin_Iconography",
          "yref": "y"
         },
         {
          "font": {
           "color": "#000000"
          },
          "showarrow": false,
          "text": "0",
          "x": "16_AbstractArt",
          "xref": "x",
          "y": "01_Byzantin_Iconography",
          "yref": "y"
         },
         {
          "font": {
           "color": "#000000"
          },
          "showarrow": false,
          "text": "0",
          "x": "17_NaiveArt",
          "xref": "x",
          "y": "01_Byzantin_Iconography",
          "yref": "y"
         },
         {
          "font": {
           "color": "#000000"
          },
          "showarrow": false,
          "text": "0",
          "x": "18_PopArt",
          "xref": "x",
          "y": "01_Byzantin_Iconography",
          "yref": "y"
         },
         {
          "font": {
           "color": "#000000"
          },
          "showarrow": false,
          "text": "0",
          "x": "19_ChineseArt",
          "xref": "x",
          "y": "01_Byzantin_Iconography",
          "yref": "y"
         },
         {
          "font": {
           "color": "#000000"
          },
          "showarrow": false,
          "text": "1",
          "x": "20_JapaneseArt",
          "xref": "x",
          "y": "01_Byzantin_Iconography",
          "yref": "y"
         },
         {
          "font": {
           "color": "black",
           "size": 16
          },
          "showarrow": false,
          "x": 0.5,
          "xref": "paper",
          "y": -0.15,
          "yref": "paper"
         },
         {
          "font": {
           "color": "black",
           "size": 16
          },
          "showarrow": false,
          "textangle": -90,
          "x": -0.5,
          "xref": "paper",
          "y": 0.5,
          "yref": "paper"
         }
        ],
        "height": 1100,
        "margin": {
         "l": 200,
         "t": 50
        },
        "template": {
         "data": {
          "bar": [
           {
            "error_x": {
             "color": "#2a3f5f"
            },
            "error_y": {
             "color": "#2a3f5f"
            },
            "marker": {
             "line": {
              "color": "#E5ECF6",
              "width": 0.5
             },
             "pattern": {
              "fillmode": "overlay",
              "size": 10,
              "solidity": 0.2
             }
            },
            "type": "bar"
           }
          ],
          "barpolar": [
           {
            "marker": {
             "line": {
              "color": "#E5ECF6",
              "width": 0.5
             },
             "pattern": {
              "fillmode": "overlay",
              "size": 10,
              "solidity": 0.2
             }
            },
            "type": "barpolar"
           }
          ],
          "carpet": [
           {
            "aaxis": {
             "endlinecolor": "#2a3f5f",
             "gridcolor": "white",
             "linecolor": "white",
             "minorgridcolor": "white",
             "startlinecolor": "#2a3f5f"
            },
            "baxis": {
             "endlinecolor": "#2a3f5f",
             "gridcolor": "white",
             "linecolor": "white",
             "minorgridcolor": "white",
             "startlinecolor": "#2a3f5f"
            },
            "type": "carpet"
           }
          ],
          "choropleth": [
           {
            "colorbar": {
             "outlinewidth": 0,
             "ticks": ""
            },
            "type": "choropleth"
           }
          ],
          "contour": [
           {
            "colorbar": {
             "outlinewidth": 0,
             "ticks": ""
            },
            "colorscale": [
             [
              0,
              "#0d0887"
             ],
             [
              0.1111111111111111,
              "#46039f"
             ],
             [
              0.2222222222222222,
              "#7201a8"
             ],
             [
              0.3333333333333333,
              "#9c179e"
             ],
             [
              0.4444444444444444,
              "#bd3786"
             ],
             [
              0.5555555555555556,
              "#d8576b"
             ],
             [
              0.6666666666666666,
              "#ed7953"
             ],
             [
              0.7777777777777778,
              "#fb9f3a"
             ],
             [
              0.8888888888888888,
              "#fdca26"
             ],
             [
              1,
              "#f0f921"
             ]
            ],
            "type": "contour"
           }
          ],
          "contourcarpet": [
           {
            "colorbar": {
             "outlinewidth": 0,
             "ticks": ""
            },
            "type": "contourcarpet"
           }
          ],
          "heatmap": [
           {
            "colorbar": {
             "outlinewidth": 0,
             "ticks": ""
            },
            "colorscale": [
             [
              0,
              "#0d0887"
             ],
             [
              0.1111111111111111,
              "#46039f"
             ],
             [
              0.2222222222222222,
              "#7201a8"
             ],
             [
              0.3333333333333333,
              "#9c179e"
             ],
             [
              0.4444444444444444,
              "#bd3786"
             ],
             [
              0.5555555555555556,
              "#d8576b"
             ],
             [
              0.6666666666666666,
              "#ed7953"
             ],
             [
              0.7777777777777778,
              "#fb9f3a"
             ],
             [
              0.8888888888888888,
              "#fdca26"
             ],
             [
              1,
              "#f0f921"
             ]
            ],
            "type": "heatmap"
           }
          ],
          "heatmapgl": [
           {
            "colorbar": {
             "outlinewidth": 0,
             "ticks": ""
            },
            "colorscale": [
             [
              0,
              "#0d0887"
             ],
             [
              0.1111111111111111,
              "#46039f"
             ],
             [
              0.2222222222222222,
              "#7201a8"
             ],
             [
              0.3333333333333333,
              "#9c179e"
             ],
             [
              0.4444444444444444,
              "#bd3786"
             ],
             [
              0.5555555555555556,
              "#d8576b"
             ],
             [
              0.6666666666666666,
              "#ed7953"
             ],
             [
              0.7777777777777778,
              "#fb9f3a"
             ],
             [
              0.8888888888888888,
              "#fdca26"
             ],
             [
              1,
              "#f0f921"
             ]
            ],
            "type": "heatmapgl"
           }
          ],
          "histogram": [
           {
            "marker": {
             "pattern": {
              "fillmode": "overlay",
              "size": 10,
              "solidity": 0.2
             }
            },
            "type": "histogram"
           }
          ],
          "histogram2d": [
           {
            "colorbar": {
             "outlinewidth": 0,
             "ticks": ""
            },
            "colorscale": [
             [
              0,
              "#0d0887"
             ],
             [
              0.1111111111111111,
              "#46039f"
             ],
             [
              0.2222222222222222,
              "#7201a8"
             ],
             [
              0.3333333333333333,
              "#9c179e"
             ],
             [
              0.4444444444444444,
              "#bd3786"
             ],
             [
              0.5555555555555556,
              "#d8576b"
             ],
             [
              0.6666666666666666,
              "#ed7953"
             ],
             [
              0.7777777777777778,
              "#fb9f3a"
             ],
             [
              0.8888888888888888,
              "#fdca26"
             ],
             [
              1,
              "#f0f921"
             ]
            ],
            "type": "histogram2d"
           }
          ],
          "histogram2dcontour": [
           {
            "colorbar": {
             "outlinewidth": 0,
             "ticks": ""
            },
            "colorscale": [
             [
              0,
              "#0d0887"
             ],
             [
              0.1111111111111111,
              "#46039f"
             ],
             [
              0.2222222222222222,
              "#7201a8"
             ],
             [
              0.3333333333333333,
              "#9c179e"
             ],
             [
              0.4444444444444444,
              "#bd3786"
             ],
             [
              0.5555555555555556,
              "#d8576b"
             ],
             [
              0.6666666666666666,
              "#ed7953"
             ],
             [
              0.7777777777777778,
              "#fb9f3a"
             ],
             [
              0.8888888888888888,
              "#fdca26"
             ],
             [
              1,
              "#f0f921"
             ]
            ],
            "type": "histogram2dcontour"
           }
          ],
          "mesh3d": [
           {
            "colorbar": {
             "outlinewidth": 0,
             "ticks": ""
            },
            "type": "mesh3d"
           }
          ],
          "parcoords": [
           {
            "line": {
             "colorbar": {
              "outlinewidth": 0,
              "ticks": ""
             }
            },
            "type": "parcoords"
           }
          ],
          "pie": [
           {
            "automargin": true,
            "type": "pie"
           }
          ],
          "scatter": [
           {
            "fillpattern": {
             "fillmode": "overlay",
             "size": 10,
             "solidity": 0.2
            },
            "type": "scatter"
           }
          ],
          "scatter3d": [
           {
            "line": {
             "colorbar": {
              "outlinewidth": 0,
              "ticks": ""
             }
            },
            "marker": {
             "colorbar": {
              "outlinewidth": 0,
              "ticks": ""
             }
            },
            "type": "scatter3d"
           }
          ],
          "scattercarpet": [
           {
            "marker": {
             "colorbar": {
              "outlinewidth": 0,
              "ticks": ""
             }
            },
            "type": "scattercarpet"
           }
          ],
          "scattergeo": [
           {
            "marker": {
             "colorbar": {
              "outlinewidth": 0,
              "ticks": ""
             }
            },
            "type": "scattergeo"
           }
          ],
          "scattergl": [
           {
            "marker": {
             "colorbar": {
              "outlinewidth": 0,
              "ticks": ""
             }
            },
            "type": "scattergl"
           }
          ],
          "scattermapbox": [
           {
            "marker": {
             "colorbar": {
              "outlinewidth": 0,
              "ticks": ""
             }
            },
            "type": "scattermapbox"
           }
          ],
          "scatterpolar": [
           {
            "marker": {
             "colorbar": {
              "outlinewidth": 0,
              "ticks": ""
             }
            },
            "type": "scatterpolar"
           }
          ],
          "scatterpolargl": [
           {
            "marker": {
             "colorbar": {
              "outlinewidth": 0,
              "ticks": ""
             }
            },
            "type": "scatterpolargl"
           }
          ],
          "scatterternary": [
           {
            "marker": {
             "colorbar": {
              "outlinewidth": 0,
              "ticks": ""
             }
            },
            "type": "scatterternary"
           }
          ],
          "surface": [
           {
            "colorbar": {
             "outlinewidth": 0,
             "ticks": ""
            },
            "colorscale": [
             [
              0,
              "#0d0887"
             ],
             [
              0.1111111111111111,
              "#46039f"
             ],
             [
              0.2222222222222222,
              "#7201a8"
             ],
             [
              0.3333333333333333,
              "#9c179e"
             ],
             [
              0.4444444444444444,
              "#bd3786"
             ],
             [
              0.5555555555555556,
              "#d8576b"
             ],
             [
              0.6666666666666666,
              "#ed7953"
             ],
             [
              0.7777777777777778,
              "#fb9f3a"
             ],
             [
              0.8888888888888888,
              "#fdca26"
             ],
             [
              1,
              "#f0f921"
             ]
            ],
            "type": "surface"
           }
          ],
          "table": [
           {
            "cells": {
             "fill": {
              "color": "#EBF0F8"
             },
             "line": {
              "color": "white"
             }
            },
            "header": {
             "fill": {
              "color": "#C8D4E3"
             },
             "line": {
              "color": "white"
             }
            },
            "type": "table"
           }
          ]
         },
         "layout": {
          "annotationdefaults": {
           "arrowcolor": "#2a3f5f",
           "arrowhead": 0,
           "arrowwidth": 1
          },
          "autotypenumbers": "strict",
          "coloraxis": {
           "colorbar": {
            "outlinewidth": 0,
            "ticks": ""
           }
          },
          "colorscale": {
           "diverging": [
            [
             0,
             "#8e0152"
            ],
            [
             0.1,
             "#c51b7d"
            ],
            [
             0.2,
             "#de77ae"
            ],
            [
             0.3,
             "#f1b6da"
            ],
            [
             0.4,
             "#fde0ef"
            ],
            [
             0.5,
             "#f7f7f7"
            ],
            [
             0.6,
             "#e6f5d0"
            ],
            [
             0.7,
             "#b8e186"
            ],
            [
             0.8,
             "#7fbc41"
            ],
            [
             0.9,
             "#4d9221"
            ],
            [
             1,
             "#276419"
            ]
           ],
           "sequential": [
            [
             0,
             "#0d0887"
            ],
            [
             0.1111111111111111,
             "#46039f"
            ],
            [
             0.2222222222222222,
             "#7201a8"
            ],
            [
             0.3333333333333333,
             "#9c179e"
            ],
            [
             0.4444444444444444,
             "#bd3786"
            ],
            [
             0.5555555555555556,
             "#d8576b"
            ],
            [
             0.6666666666666666,
             "#ed7953"
            ],
            [
             0.7777777777777778,
             "#fb9f3a"
            ],
            [
             0.8888888888888888,
             "#fdca26"
            ],
            [
             1,
             "#f0f921"
            ]
           ],
           "sequentialminus": [
            [
             0,
             "#0d0887"
            ],
            [
             0.1111111111111111,
             "#46039f"
            ],
            [
             0.2222222222222222,
             "#7201a8"
            ],
            [
             0.3333333333333333,
             "#9c179e"
            ],
            [
             0.4444444444444444,
             "#bd3786"
            ],
            [
             0.5555555555555556,
             "#d8576b"
            ],
            [
             0.6666666666666666,
             "#ed7953"
            ],
            [
             0.7777777777777778,
             "#fb9f3a"
            ],
            [
             0.8888888888888888,
             "#fdca26"
            ],
            [
             1,
             "#f0f921"
            ]
           ]
          },
          "colorway": [
           "#636efa",
           "#EF553B",
           "#00cc96",
           "#ab63fa",
           "#FFA15A",
           "#19d3f3",
           "#FF6692",
           "#B6E880",
           "#FF97FF",
           "#FECB52"
          ],
          "font": {
           "color": "#2a3f5f"
          },
          "geo": {
           "bgcolor": "white",
           "lakecolor": "white",
           "landcolor": "#E5ECF6",
           "showlakes": true,
           "showland": true,
           "subunitcolor": "white"
          },
          "hoverlabel": {
           "align": "left"
          },
          "hovermode": "closest",
          "mapbox": {
           "style": "light"
          },
          "paper_bgcolor": "white",
          "plot_bgcolor": "#E5ECF6",
          "polar": {
           "angularaxis": {
            "gridcolor": "white",
            "linecolor": "white",
            "ticks": ""
           },
           "bgcolor": "#E5ECF6",
           "radialaxis": {
            "gridcolor": "white",
            "linecolor": "white",
            "ticks": ""
           }
          },
          "scene": {
           "xaxis": {
            "backgroundcolor": "#E5ECF6",
            "gridcolor": "white",
            "gridwidth": 2,
            "linecolor": "white",
            "showbackground": true,
            "ticks": "",
            "zerolinecolor": "white"
           },
           "yaxis": {
            "backgroundcolor": "#E5ECF6",
            "gridcolor": "white",
            "gridwidth": 2,
            "linecolor": "white",
            "showbackground": true,
            "ticks": "",
            "zerolinecolor": "white"
           },
           "zaxis": {
            "backgroundcolor": "#E5ECF6",
            "gridcolor": "white",
            "gridwidth": 2,
            "linecolor": "white",
            "showbackground": true,
            "ticks": "",
            "zerolinecolor": "white"
           }
          },
          "shapedefaults": {
           "line": {
            "color": "#2a3f5f"
           }
          },
          "ternary": {
           "aaxis": {
            "gridcolor": "white",
            "linecolor": "white",
            "ticks": ""
           },
           "baxis": {
            "gridcolor": "white",
            "linecolor": "white",
            "ticks": ""
           },
           "bgcolor": "#E5ECF6",
           "caxis": {
            "gridcolor": "white",
            "linecolor": "white",
            "ticks": ""
           }
          },
          "title": {
           "x": 0.05
          },
          "xaxis": {
           "automargin": true,
           "gridcolor": "white",
           "linecolor": "white",
           "ticks": "",
           "title": {
            "standoff": 15
           },
           "zerolinecolor": "white",
           "zerolinewidth": 2
          },
          "yaxis": {
           "automargin": true,
           "gridcolor": "white",
           "linecolor": "white",
           "ticks": "",
           "title": {
            "standoff": 15
           },
           "zerolinecolor": "white",
           "zerolinewidth": 2
          }
         }
        },
        "width": 1100,
        "xaxis": {
         "dtick": 1,
         "gridcolor": "rgb(0, 0, 0)",
         "side": "top",
         "ticks": ""
        },
        "yaxis": {
         "dtick": 1,
         "ticks": "",
         "ticksuffix": "  "
        }
       }
      }
     },
     "metadata": {},
     "output_type": "display_data"
    }
   ],
   "source": [
    "confusion_matrix(pred, target, ds.classes)"
   ]
  },
  {
   "cell_type": "code",
   "execution_count": 11,
   "metadata": {},
   "outputs": [
    {
     "name": "stdout",
     "output_type": "stream",
     "text": [
      "Mean accuracy for min 3 styles : 46.8 %\n",
      "Accuracy for 06_Rococo: 38.6 %\n",
      "Accuracy for 11_Expressionism: 43.8 %\n",
      "Accuracy for 05_Baroque: 58.0 %\n"
     ]
    },
    {
     "ename": "",
     "evalue": "",
     "output_type": "error",
     "traceback": [
      "\u001b[1;31mThe Kernel crashed while executing code in the the current cell or a previous cell. Please review the code in the cell(s) to identify a possible cause of the failure. Click <a href='https://aka.ms/vscodeJupyterKernelCrash'>here</a> for more info. View Jupyter <a href='command:jupyter.viewOutput'>log</a> for further details."
     ]
    }
   ],
   "source": [
    "x = sorted(list(acc_per_class.items()), key=lambda x : x[1])[:3]\n",
    "\n",
    "print(f\"Mean accuracy for min 3 styles : {sum([el[1] for el in x]) / 3:.1f} %\")\n",
    "\n",
    "for style, acc in x:\n",
    "    print(f'Accuracy for {style}: {acc:.1f} %')"
   ]
  }
 ],
 "metadata": {
  "kernelspec": {
   "display_name": "base",
   "language": "python",
   "name": "python3"
  },
  "language_info": {
   "codemirror_mode": {
    "name": "ipython",
    "version": 3
   },
   "file_extension": ".py",
   "mimetype": "text/x-python",
   "name": "python",
   "nbconvert_exporter": "python",
   "pygments_lexer": "ipython3",
   "version": "3.9.13"
  },
  "orig_nbformat": 4
 },
 "nbformat": 4,
 "nbformat_minor": 2
}
